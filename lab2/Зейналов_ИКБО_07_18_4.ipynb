{
  "nbformat": 4,
  "nbformat_minor": 0,
  "metadata": {
    "colab": {
      "name": "Зейналов_ИКБО-07-18_4.ipynb",
      "provenance": [],
      "toc_visible": true
    },
    "kernelspec": {
      "name": "python3",
      "display_name": "Python 3"
    }
  },
  "cells": [
    {
      "cell_type": "code",
      "metadata": {
        "id": "UOg5kOd7ik0I",
        "colab_type": "code",
        "colab": {}
      },
      "source": [
        "import numpy as np\n",
        "from scipy import stats\n",
        "from scipy import integrate\n",
        "import pandas as pd\n",
        "import matplotlib.pyplot as plt\n",
        "import seaborn as sns"
      ],
      "execution_count": 0,
      "outputs": []
    },
    {
      "cell_type": "code",
      "metadata": {
        "id": "IIWaQPB9_WCt",
        "colab_type": "code",
        "colab": {}
      },
      "source": [
        "def is_digit(x):\n",
        "  if x.isdigit():\n",
        "    return True\n",
        "  try:\n",
        "    float(x)\n",
        "    return True\n",
        "  except ValueError:\n",
        "    return False"
      ],
      "execution_count": 0,
      "outputs": []
    },
    {
      "cell_type": "markdown",
      "metadata": {
        "id": "pLcC0xVR0XzG",
        "colab_type": "text"
      },
      "source": [
        "# Часть 1"
      ]
    },
    {
      "cell_type": "markdown",
      "metadata": {
        "id": "39Hmb46H_maO",
        "colab_type": "text"
      },
      "source": [
        "## Получение всех данных из csv"
      ]
    },
    {
      "cell_type": "code",
      "metadata": {
        "id": "xC70ddrk_t2_",
        "colab_type": "code",
        "outputId": "04b700c5-e36d-489e-f4f5-8fd5aa692e7f",
        "colab": {
          "base_uri": "https://localhost:8080/",
          "height": 476
        }
      },
      "source": [
        "all_data = pd.read_csv('bands_new.csv')\n",
        "\n",
        "all_data"
      ],
      "execution_count": 0,
      "outputs": [
        {
          "output_type": "execute_result",
          "data": {
            "text/html": [
              "<div>\n",
              "<style scoped>\n",
              "    .dataframe tbody tr th:only-of-type {\n",
              "        vertical-align: middle;\n",
              "    }\n",
              "\n",
              "    .dataframe tbody tr th {\n",
              "        vertical-align: top;\n",
              "    }\n",
              "\n",
              "    .dataframe thead th {\n",
              "        text-align: right;\n",
              "    }\n",
              "</style>\n",
              "<table border=\"1\" class=\"dataframe\">\n",
              "  <thead>\n",
              "    <tr style=\"text-align: right;\">\n",
              "      <th></th>\n",
              "      <th>timestamp</th>\n",
              "      <th>cylinder number</th>\n",
              "      <th>customer</th>\n",
              "      <th>job number</th>\n",
              "      <th>grain screened</th>\n",
              "      <th>ink color</th>\n",
              "      <th>proof on ctd ink</th>\n",
              "      <th>blade mfg: nominal</th>\n",
              "      <th>cylinder division</th>\n",
              "      <th>paper type</th>\n",
              "      <th>ink type</th>\n",
              "      <th>direct steam</th>\n",
              "      <th>solvent type</th>\n",
              "      <th>type on cylinder</th>\n",
              "      <th>press type</th>\n",
              "      <th>press: nominal</th>\n",
              "      <th>unit number</th>\n",
              "      <th>cylinder size</th>\n",
              "      <th>paper mill location</th>\n",
              "      <th>plating tank</th>\n",
              "      <th>proof cut</th>\n",
              "      <th>viscosity</th>\n",
              "      <th>caliper</th>\n",
              "      <th>ink temperature</th>\n",
              "      <th>humifity</th>\n",
              "      <th>roughness</th>\n",
              "      <th>blade pressure</th>\n",
              "      <th>varnish pct</th>\n",
              "      <th>press speed</th>\n",
              "      <th>ink pct</th>\n",
              "      <th>solvent pct</th>\n",
              "      <th>ESA Voltage</th>\n",
              "      <th>ESA Amperage</th>\n",
              "      <th>wax</th>\n",
              "      <th>hardener</th>\n",
              "      <th>roller durometer</th>\n",
              "      <th>current density</th>\n",
              "      <th>anode space ratio</th>\n",
              "      <th>chrome content</th>\n",
              "      <th>band type</th>\n",
              "    </tr>\n",
              "  </thead>\n",
              "  <tbody>\n",
              "    <tr>\n",
              "      <th>0</th>\n",
              "      <td>19910109</td>\n",
              "      <td>X266</td>\n",
              "      <td>TVGUIDE</td>\n",
              "      <td>25503</td>\n",
              "      <td>YES</td>\n",
              "      <td>KEY</td>\n",
              "      <td>YES</td>\n",
              "      <td>BENTON</td>\n",
              "      <td>GALLATIN</td>\n",
              "      <td>UNCOATED</td>\n",
              "      <td>UNCOATED</td>\n",
              "      <td>NO</td>\n",
              "      <td>LINE</td>\n",
              "      <td>YES</td>\n",
              "      <td>Motter94</td>\n",
              "      <td>821</td>\n",
              "      <td>2</td>\n",
              "      <td>TABLOID</td>\n",
              "      <td>NorthUS</td>\n",
              "      <td>None</td>\n",
              "      <td>55</td>\n",
              "      <td>46</td>\n",
              "      <td>0.3</td>\n",
              "      <td>15.0</td>\n",
              "      <td>80</td>\n",
              "      <td>0.75</td>\n",
              "      <td>20</td>\n",
              "      <td>6.6</td>\n",
              "      <td>1900</td>\n",
              "      <td>54.9</td>\n",
              "      <td>38.5</td>\n",
              "      <td>0</td>\n",
              "      <td>0.0</td>\n",
              "      <td>2.5</td>\n",
              "      <td>0.7</td>\n",
              "      <td>34</td>\n",
              "      <td>40</td>\n",
              "      <td>105</td>\n",
              "      <td>100</td>\n",
              "      <td>noband</td>\n",
              "    </tr>\n",
              "    <tr>\n",
              "      <th>1</th>\n",
              "      <td>19910104</td>\n",
              "      <td>B7</td>\n",
              "      <td>MODMAT</td>\n",
              "      <td>47201</td>\n",
              "      <td>YES</td>\n",
              "      <td>KEY</td>\n",
              "      <td>YES</td>\n",
              "      <td>BENTON</td>\n",
              "      <td>GALLATIN</td>\n",
              "      <td>UNCOATED</td>\n",
              "      <td>COATED</td>\n",
              "      <td>NO</td>\n",
              "      <td>LINE</td>\n",
              "      <td>YES</td>\n",
              "      <td>WoodHoe70</td>\n",
              "      <td>815</td>\n",
              "      <td>9</td>\n",
              "      <td>CATALOG</td>\n",
              "      <td>NorthUS</td>\n",
              "      <td>None</td>\n",
              "      <td>62</td>\n",
              "      <td>40</td>\n",
              "      <td>0.433</td>\n",
              "      <td>16.0</td>\n",
              "      <td>80</td>\n",
              "      <td>None</td>\n",
              "      <td>30</td>\n",
              "      <td>6.5</td>\n",
              "      <td>1850</td>\n",
              "      <td>53.8</td>\n",
              "      <td>39.8</td>\n",
              "      <td>0</td>\n",
              "      <td>0.0</td>\n",
              "      <td>2.8</td>\n",
              "      <td>0.9</td>\n",
              "      <td>40</td>\n",
              "      <td>40</td>\n",
              "      <td>103.87</td>\n",
              "      <td>100</td>\n",
              "      <td>noband</td>\n",
              "    </tr>\n",
              "    <tr>\n",
              "      <th>2</th>\n",
              "      <td>19910104</td>\n",
              "      <td>T133</td>\n",
              "      <td>MASSEY</td>\n",
              "      <td>39039</td>\n",
              "      <td>YES</td>\n",
              "      <td>KEY</td>\n",
              "      <td>YES</td>\n",
              "      <td>BENTON</td>\n",
              "      <td>GALLATIN</td>\n",
              "      <td>UNCOATED</td>\n",
              "      <td>UNCOATED</td>\n",
              "      <td>NO</td>\n",
              "      <td>LINE</td>\n",
              "      <td>YES</td>\n",
              "      <td>WoodHoe70</td>\n",
              "      <td>816</td>\n",
              "      <td>9</td>\n",
              "      <td>CATALOG</td>\n",
              "      <td>NorthUS</td>\n",
              "      <td>1910</td>\n",
              "      <td>52</td>\n",
              "      <td>40</td>\n",
              "      <td>0.3</td>\n",
              "      <td>16.0</td>\n",
              "      <td>75</td>\n",
              "      <td>0.3125</td>\n",
              "      <td>30</td>\n",
              "      <td>5.6</td>\n",
              "      <td>1467</td>\n",
              "      <td>55.6</td>\n",
              "      <td>38.8</td>\n",
              "      <td>0</td>\n",
              "      <td>0.0</td>\n",
              "      <td>2.5</td>\n",
              "      <td>1.3</td>\n",
              "      <td>40</td>\n",
              "      <td>40</td>\n",
              "      <td>108.06</td>\n",
              "      <td>100</td>\n",
              "      <td>noband</td>\n",
              "    </tr>\n",
              "    <tr>\n",
              "      <th>3</th>\n",
              "      <td>19910111</td>\n",
              "      <td>J34</td>\n",
              "      <td>KMART</td>\n",
              "      <td>37351</td>\n",
              "      <td>NO</td>\n",
              "      <td>KEY</td>\n",
              "      <td>YES</td>\n",
              "      <td>BENTON</td>\n",
              "      <td>GALLATIN</td>\n",
              "      <td>UNCOATED</td>\n",
              "      <td>COATED</td>\n",
              "      <td>NO</td>\n",
              "      <td>LINE</td>\n",
              "      <td>YES</td>\n",
              "      <td>WoodHoe70</td>\n",
              "      <td>816</td>\n",
              "      <td>2</td>\n",
              "      <td>TABLOID</td>\n",
              "      <td>None</td>\n",
              "      <td>1910</td>\n",
              "      <td>50</td>\n",
              "      <td>46</td>\n",
              "      <td>0.3</td>\n",
              "      <td>17.0</td>\n",
              "      <td>80</td>\n",
              "      <td>0.75</td>\n",
              "      <td>30</td>\n",
              "      <td>0.0</td>\n",
              "      <td>2100</td>\n",
              "      <td>57.5</td>\n",
              "      <td>42.5</td>\n",
              "      <td>5</td>\n",
              "      <td>0.0</td>\n",
              "      <td>2.3</td>\n",
              "      <td>0.6</td>\n",
              "      <td>35</td>\n",
              "      <td>40</td>\n",
              "      <td>106.67</td>\n",
              "      <td>100</td>\n",
              "      <td>noband</td>\n",
              "    </tr>\n",
              "    <tr>\n",
              "      <th>4</th>\n",
              "      <td>19910104</td>\n",
              "      <td>T218</td>\n",
              "      <td>MASSEY</td>\n",
              "      <td>38039</td>\n",
              "      <td>YES</td>\n",
              "      <td>KEY</td>\n",
              "      <td>YES</td>\n",
              "      <td>BENTON</td>\n",
              "      <td>GALLATIN</td>\n",
              "      <td>UNCOATED</td>\n",
              "      <td>UNCOATED</td>\n",
              "      <td>NO</td>\n",
              "      <td>LINE</td>\n",
              "      <td>YES</td>\n",
              "      <td>WoodHoe70</td>\n",
              "      <td>816</td>\n",
              "      <td>2</td>\n",
              "      <td>CATALOG</td>\n",
              "      <td>NorthUS</td>\n",
              "      <td>1910</td>\n",
              "      <td>50</td>\n",
              "      <td>40</td>\n",
              "      <td>0.267</td>\n",
              "      <td>16.8</td>\n",
              "      <td>76</td>\n",
              "      <td>0.4375</td>\n",
              "      <td>28</td>\n",
              "      <td>8.6</td>\n",
              "      <td>1467</td>\n",
              "      <td>53.8</td>\n",
              "      <td>37.6</td>\n",
              "      <td>5</td>\n",
              "      <td>0.0</td>\n",
              "      <td>2.5</td>\n",
              "      <td>0.8</td>\n",
              "      <td>40</td>\n",
              "      <td>40</td>\n",
              "      <td>103.87</td>\n",
              "      <td>100</td>\n",
              "      <td>noband</td>\n",
              "    </tr>\n",
              "    <tr>\n",
              "      <th>...</th>\n",
              "      <td>...</td>\n",
              "      <td>...</td>\n",
              "      <td>...</td>\n",
              "      <td>...</td>\n",
              "      <td>...</td>\n",
              "      <td>...</td>\n",
              "      <td>...</td>\n",
              "      <td>...</td>\n",
              "      <td>...</td>\n",
              "      <td>...</td>\n",
              "      <td>...</td>\n",
              "      <td>...</td>\n",
              "      <td>...</td>\n",
              "      <td>...</td>\n",
              "      <td>...</td>\n",
              "      <td>...</td>\n",
              "      <td>...</td>\n",
              "      <td>...</td>\n",
              "      <td>...</td>\n",
              "      <td>...</td>\n",
              "      <td>...</td>\n",
              "      <td>...</td>\n",
              "      <td>...</td>\n",
              "      <td>...</td>\n",
              "      <td>...</td>\n",
              "      <td>...</td>\n",
              "      <td>...</td>\n",
              "      <td>...</td>\n",
              "      <td>...</td>\n",
              "      <td>...</td>\n",
              "      <td>...</td>\n",
              "      <td>...</td>\n",
              "      <td>...</td>\n",
              "      <td>...</td>\n",
              "      <td>...</td>\n",
              "      <td>...</td>\n",
              "      <td>...</td>\n",
              "      <td>...</td>\n",
              "      <td>...</td>\n",
              "      <td>...</td>\n",
              "    </tr>\n",
              "    <tr>\n",
              "      <th>294</th>\n",
              "      <td>19900818</td>\n",
              "      <td>X91</td>\n",
              "      <td>LAZARUS</td>\n",
              "      <td>34154</td>\n",
              "      <td>YES</td>\n",
              "      <td>KEY</td>\n",
              "      <td>YES</td>\n",
              "      <td>BENTON</td>\n",
              "      <td>GALLATIN</td>\n",
              "      <td>UNCOATED</td>\n",
              "      <td>UNCOATED</td>\n",
              "      <td>NO</td>\n",
              "      <td>LINE</td>\n",
              "      <td>NO</td>\n",
              "      <td>Motter94</td>\n",
              "      <td>828</td>\n",
              "      <td>2</td>\n",
              "      <td>TABLOID</td>\n",
              "      <td>None</td>\n",
              "      <td>1910</td>\n",
              "      <td>45</td>\n",
              "      <td>56</td>\n",
              "      <td>0.333</td>\n",
              "      <td>14.9</td>\n",
              "      <td>85</td>\n",
              "      <td>1</td>\n",
              "      <td>30</td>\n",
              "      <td>17.3</td>\n",
              "      <td>1600</td>\n",
              "      <td>48.1</td>\n",
              "      <td>34.6</td>\n",
              "      <td>0</td>\n",
              "      <td>0.0</td>\n",
              "      <td>2.8</td>\n",
              "      <td>1</td>\n",
              "      <td>40</td>\n",
              "      <td>35</td>\n",
              "      <td>100</td>\n",
              "      <td>100</td>\n",
              "      <td>noband</td>\n",
              "    </tr>\n",
              "    <tr>\n",
              "      <th>295</th>\n",
              "      <td>19900818</td>\n",
              "      <td>X132</td>\n",
              "      <td>LAZARUS</td>\n",
              "      <td>34154</td>\n",
              "      <td>YES</td>\n",
              "      <td>KEY</td>\n",
              "      <td>YES</td>\n",
              "      <td>BENTON</td>\n",
              "      <td>GALLATIN</td>\n",
              "      <td>UNCOATED</td>\n",
              "      <td>UNCOATED</td>\n",
              "      <td>NO</td>\n",
              "      <td>LINE</td>\n",
              "      <td>NO</td>\n",
              "      <td>Motter94</td>\n",
              "      <td>828</td>\n",
              "      <td>10</td>\n",
              "      <td>TABLOID</td>\n",
              "      <td>CANADIAN</td>\n",
              "      <td>1910</td>\n",
              "      <td>30</td>\n",
              "      <td>56</td>\n",
              "      <td>0.367</td>\n",
              "      <td>14.7</td>\n",
              "      <td>83</td>\n",
              "      <td>1</td>\n",
              "      <td>30</td>\n",
              "      <td>10.8</td>\n",
              "      <td>1600</td>\n",
              "      <td>53.8</td>\n",
              "      <td>35.5</td>\n",
              "      <td>0</td>\n",
              "      <td>6.0</td>\n",
              "      <td>2.6</td>\n",
              "      <td>1.2</td>\n",
              "      <td>40</td>\n",
              "      <td>35</td>\n",
              "      <td>100</td>\n",
              "      <td>100</td>\n",
              "      <td>noband</td>\n",
              "    </tr>\n",
              "    <tr>\n",
              "      <th>296</th>\n",
              "      <td>19900820</td>\n",
              "      <td>X377</td>\n",
              "      <td>AMES</td>\n",
              "      <td>34585</td>\n",
              "      <td>NO</td>\n",
              "      <td>KEY</td>\n",
              "      <td>YES</td>\n",
              "      <td>BENTON</td>\n",
              "      <td>GALLATIN</td>\n",
              "      <td>COATED</td>\n",
              "      <td>COATED</td>\n",
              "      <td>NO</td>\n",
              "      <td>LINE</td>\n",
              "      <td>YES</td>\n",
              "      <td>Motter94</td>\n",
              "      <td>828</td>\n",
              "      <td>2</td>\n",
              "      <td>TABLOID</td>\n",
              "      <td>CANADIAN</td>\n",
              "      <td>1910</td>\n",
              "      <td>57.5</td>\n",
              "      <td>57</td>\n",
              "      <td>0.367</td>\n",
              "      <td>15.3</td>\n",
              "      <td>84</td>\n",
              "      <td>1</td>\n",
              "      <td>30</td>\n",
              "      <td>19.0</td>\n",
              "      <td>2400</td>\n",
              "      <td>47.6</td>\n",
              "      <td>33.3</td>\n",
              "      <td>0</td>\n",
              "      <td>0.0</td>\n",
              "      <td>3</td>\n",
              "      <td>1</td>\n",
              "      <td>33</td>\n",
              "      <td>40</td>\n",
              "      <td>93.75</td>\n",
              "      <td>100</td>\n",
              "      <td>noband</td>\n",
              "    </tr>\n",
              "    <tr>\n",
              "      <th>297</th>\n",
              "      <td>19900820</td>\n",
              "      <td>X129</td>\n",
              "      <td>AMES</td>\n",
              "      <td>34585</td>\n",
              "      <td>NO</td>\n",
              "      <td>KEY</td>\n",
              "      <td>YES</td>\n",
              "      <td>BENTON</td>\n",
              "      <td>GALLATIN</td>\n",
              "      <td>COATED</td>\n",
              "      <td>COATED</td>\n",
              "      <td>NO</td>\n",
              "      <td>LINE</td>\n",
              "      <td>YES</td>\n",
              "      <td>Motter94</td>\n",
              "      <td>828</td>\n",
              "      <td>10</td>\n",
              "      <td>TABLOID</td>\n",
              "      <td>CANADIAN</td>\n",
              "      <td>1910</td>\n",
              "      <td>57.5</td>\n",
              "      <td>57</td>\n",
              "      <td>None</td>\n",
              "      <td>14.2</td>\n",
              "      <td>78</td>\n",
              "      <td>1</td>\n",
              "      <td>30</td>\n",
              "      <td>10.5</td>\n",
              "      <td>2400</td>\n",
              "      <td>52.6</td>\n",
              "      <td>36.8</td>\n",
              "      <td>0</td>\n",
              "      <td>0.0</td>\n",
              "      <td>2.5</td>\n",
              "      <td>1</td>\n",
              "      <td>33</td>\n",
              "      <td>40</td>\n",
              "      <td>93.75</td>\n",
              "      <td>100</td>\n",
              "      <td>noband</td>\n",
              "    </tr>\n",
              "    <tr>\n",
              "      <th>298</th>\n",
              "      <td>19900830</td>\n",
              "      <td>T204</td>\n",
              "      <td>GALLS</td>\n",
              "      <td>38061</td>\n",
              "      <td>YES</td>\n",
              "      <td>KEY</td>\n",
              "      <td>YES</td>\n",
              "      <td>BENTON</td>\n",
              "      <td>GALLATIN</td>\n",
              "      <td>UNCOATED</td>\n",
              "      <td>UNCOATED</td>\n",
              "      <td>NO</td>\n",
              "      <td>XYLOL</td>\n",
              "      <td>None</td>\n",
              "      <td>WoodHoe70</td>\n",
              "      <td>815</td>\n",
              "      <td>1</td>\n",
              "      <td>SPIEGEL</td>\n",
              "      <td>NorthUS</td>\n",
              "      <td>1911</td>\n",
              "      <td>47.5</td>\n",
              "      <td>49</td>\n",
              "      <td>0.367</td>\n",
              "      <td>15.0</td>\n",
              "      <td>84</td>\n",
              "      <td>0.75</td>\n",
              "      <td>28</td>\n",
              "      <td>2.2</td>\n",
              "      <td>1600</td>\n",
              "      <td>54.3</td>\n",
              "      <td>43.5</td>\n",
              "      <td>0</td>\n",
              "      <td>0.0</td>\n",
              "      <td>3</td>\n",
              "      <td>0.9</td>\n",
              "      <td>34</td>\n",
              "      <td>30</td>\n",
              "      <td>108.1</td>\n",
              "      <td>100</td>\n",
              "      <td>band</td>\n",
              "    </tr>\n",
              "  </tbody>\n",
              "</table>\n",
              "<p>299 rows × 40 columns</p>\n",
              "</div>"
            ],
            "text/plain": [
              "     timestamp cylinder number  ... chrome content  band type\n",
              "0     19910109            X266  ...            100     noband\n",
              "1     19910104              B7  ...            100     noband\n",
              "2     19910104            T133  ...            100     noband\n",
              "3     19910111             J34  ...            100     noband\n",
              "4     19910104            T218  ...            100     noband\n",
              "..         ...             ...  ...            ...        ...\n",
              "294   19900818             X91  ...            100     noband\n",
              "295   19900818            X132  ...            100     noband\n",
              "296   19900820            X377  ...            100     noband\n",
              "297   19900820            X129  ...            100     noband\n",
              "298   19900830            T204  ...            100       band\n",
              "\n",
              "[299 rows x 40 columns]"
            ]
          },
          "metadata": {
            "tags": []
          },
          "execution_count": 173
        }
      ]
    },
    {
      "cell_type": "markdown",
      "metadata": {
        "id": "_-r_rl5X636B",
        "colab_type": "text"
      },
      "source": [
        "## Получение первых и последних 10 строк"
      ]
    },
    {
      "cell_type": "code",
      "metadata": {
        "id": "zoMXZaji6-h5",
        "colab_type": "code",
        "outputId": "47570f69-0b77-4618-fe5f-f0ad429c8e64",
        "colab": {
          "base_uri": "https://localhost:8080/",
          "height": 417
        }
      },
      "source": [
        "all_data[:10]"
      ],
      "execution_count": 0,
      "outputs": [
        {
          "output_type": "execute_result",
          "data": {
            "text/html": [
              "<div>\n",
              "<style scoped>\n",
              "    .dataframe tbody tr th:only-of-type {\n",
              "        vertical-align: middle;\n",
              "    }\n",
              "\n",
              "    .dataframe tbody tr th {\n",
              "        vertical-align: top;\n",
              "    }\n",
              "\n",
              "    .dataframe thead th {\n",
              "        text-align: right;\n",
              "    }\n",
              "</style>\n",
              "<table border=\"1\" class=\"dataframe\">\n",
              "  <thead>\n",
              "    <tr style=\"text-align: right;\">\n",
              "      <th></th>\n",
              "      <th>timestamp</th>\n",
              "      <th>cylinder number</th>\n",
              "      <th>customer</th>\n",
              "      <th>job number</th>\n",
              "      <th>grain screened</th>\n",
              "      <th>ink color</th>\n",
              "      <th>proof on ctd ink</th>\n",
              "      <th>blade mfg: nominal</th>\n",
              "      <th>cylinder division</th>\n",
              "      <th>paper type</th>\n",
              "      <th>ink type</th>\n",
              "      <th>direct steam</th>\n",
              "      <th>solvent type</th>\n",
              "      <th>type on cylinder</th>\n",
              "      <th>press type</th>\n",
              "      <th>press: nominal</th>\n",
              "      <th>unit number</th>\n",
              "      <th>cylinder size</th>\n",
              "      <th>paper mill location</th>\n",
              "      <th>plating tank</th>\n",
              "      <th>proof cut</th>\n",
              "      <th>viscosity</th>\n",
              "      <th>caliper</th>\n",
              "      <th>ink temperature</th>\n",
              "      <th>humifity</th>\n",
              "      <th>roughness</th>\n",
              "      <th>blade pressure</th>\n",
              "      <th>varnish pct</th>\n",
              "      <th>press speed</th>\n",
              "      <th>ink pct</th>\n",
              "      <th>solvent pct</th>\n",
              "      <th>ESA Voltage</th>\n",
              "      <th>ESA Amperage</th>\n",
              "      <th>wax</th>\n",
              "      <th>hardener</th>\n",
              "      <th>roller durometer</th>\n",
              "      <th>current density</th>\n",
              "      <th>anode space ratio</th>\n",
              "      <th>chrome content</th>\n",
              "      <th>band type</th>\n",
              "    </tr>\n",
              "  </thead>\n",
              "  <tbody>\n",
              "    <tr>\n",
              "      <th>0</th>\n",
              "      <td>19910109</td>\n",
              "      <td>X266</td>\n",
              "      <td>TVGUIDE</td>\n",
              "      <td>25503</td>\n",
              "      <td>YES</td>\n",
              "      <td>KEY</td>\n",
              "      <td>YES</td>\n",
              "      <td>BENTON</td>\n",
              "      <td>GALLATIN</td>\n",
              "      <td>UNCOATED</td>\n",
              "      <td>UNCOATED</td>\n",
              "      <td>NO</td>\n",
              "      <td>LINE</td>\n",
              "      <td>YES</td>\n",
              "      <td>Motter94</td>\n",
              "      <td>821</td>\n",
              "      <td>2</td>\n",
              "      <td>TABLOID</td>\n",
              "      <td>NorthUS</td>\n",
              "      <td>None</td>\n",
              "      <td>55</td>\n",
              "      <td>46</td>\n",
              "      <td>0.3</td>\n",
              "      <td>15.0</td>\n",
              "      <td>80</td>\n",
              "      <td>0.75</td>\n",
              "      <td>20</td>\n",
              "      <td>6.6</td>\n",
              "      <td>1900</td>\n",
              "      <td>54.9</td>\n",
              "      <td>38.5</td>\n",
              "      <td>0</td>\n",
              "      <td>0.0</td>\n",
              "      <td>2.5</td>\n",
              "      <td>0.7</td>\n",
              "      <td>34</td>\n",
              "      <td>40</td>\n",
              "      <td>105</td>\n",
              "      <td>100</td>\n",
              "      <td>noband</td>\n",
              "    </tr>\n",
              "    <tr>\n",
              "      <th>1</th>\n",
              "      <td>19910104</td>\n",
              "      <td>B7</td>\n",
              "      <td>MODMAT</td>\n",
              "      <td>47201</td>\n",
              "      <td>YES</td>\n",
              "      <td>KEY</td>\n",
              "      <td>YES</td>\n",
              "      <td>BENTON</td>\n",
              "      <td>GALLATIN</td>\n",
              "      <td>UNCOATED</td>\n",
              "      <td>COATED</td>\n",
              "      <td>NO</td>\n",
              "      <td>LINE</td>\n",
              "      <td>YES</td>\n",
              "      <td>WoodHoe70</td>\n",
              "      <td>815</td>\n",
              "      <td>9</td>\n",
              "      <td>CATALOG</td>\n",
              "      <td>NorthUS</td>\n",
              "      <td>None</td>\n",
              "      <td>62</td>\n",
              "      <td>40</td>\n",
              "      <td>0.433</td>\n",
              "      <td>16.0</td>\n",
              "      <td>80</td>\n",
              "      <td>None</td>\n",
              "      <td>30</td>\n",
              "      <td>6.5</td>\n",
              "      <td>1850</td>\n",
              "      <td>53.8</td>\n",
              "      <td>39.8</td>\n",
              "      <td>0</td>\n",
              "      <td>0.0</td>\n",
              "      <td>2.8</td>\n",
              "      <td>0.9</td>\n",
              "      <td>40</td>\n",
              "      <td>40</td>\n",
              "      <td>103.87</td>\n",
              "      <td>100</td>\n",
              "      <td>noband</td>\n",
              "    </tr>\n",
              "    <tr>\n",
              "      <th>2</th>\n",
              "      <td>19910104</td>\n",
              "      <td>T133</td>\n",
              "      <td>MASSEY</td>\n",
              "      <td>39039</td>\n",
              "      <td>YES</td>\n",
              "      <td>KEY</td>\n",
              "      <td>YES</td>\n",
              "      <td>BENTON</td>\n",
              "      <td>GALLATIN</td>\n",
              "      <td>UNCOATED</td>\n",
              "      <td>UNCOATED</td>\n",
              "      <td>NO</td>\n",
              "      <td>LINE</td>\n",
              "      <td>YES</td>\n",
              "      <td>WoodHoe70</td>\n",
              "      <td>816</td>\n",
              "      <td>9</td>\n",
              "      <td>CATALOG</td>\n",
              "      <td>NorthUS</td>\n",
              "      <td>1910</td>\n",
              "      <td>52</td>\n",
              "      <td>40</td>\n",
              "      <td>0.3</td>\n",
              "      <td>16.0</td>\n",
              "      <td>75</td>\n",
              "      <td>0.3125</td>\n",
              "      <td>30</td>\n",
              "      <td>5.6</td>\n",
              "      <td>1467</td>\n",
              "      <td>55.6</td>\n",
              "      <td>38.8</td>\n",
              "      <td>0</td>\n",
              "      <td>0.0</td>\n",
              "      <td>2.5</td>\n",
              "      <td>1.3</td>\n",
              "      <td>40</td>\n",
              "      <td>40</td>\n",
              "      <td>108.06</td>\n",
              "      <td>100</td>\n",
              "      <td>noband</td>\n",
              "    </tr>\n",
              "    <tr>\n",
              "      <th>3</th>\n",
              "      <td>19910111</td>\n",
              "      <td>J34</td>\n",
              "      <td>KMART</td>\n",
              "      <td>37351</td>\n",
              "      <td>NO</td>\n",
              "      <td>KEY</td>\n",
              "      <td>YES</td>\n",
              "      <td>BENTON</td>\n",
              "      <td>GALLATIN</td>\n",
              "      <td>UNCOATED</td>\n",
              "      <td>COATED</td>\n",
              "      <td>NO</td>\n",
              "      <td>LINE</td>\n",
              "      <td>YES</td>\n",
              "      <td>WoodHoe70</td>\n",
              "      <td>816</td>\n",
              "      <td>2</td>\n",
              "      <td>TABLOID</td>\n",
              "      <td>None</td>\n",
              "      <td>1910</td>\n",
              "      <td>50</td>\n",
              "      <td>46</td>\n",
              "      <td>0.3</td>\n",
              "      <td>17.0</td>\n",
              "      <td>80</td>\n",
              "      <td>0.75</td>\n",
              "      <td>30</td>\n",
              "      <td>0.0</td>\n",
              "      <td>2100</td>\n",
              "      <td>57.5</td>\n",
              "      <td>42.5</td>\n",
              "      <td>5</td>\n",
              "      <td>0.0</td>\n",
              "      <td>2.3</td>\n",
              "      <td>0.6</td>\n",
              "      <td>35</td>\n",
              "      <td>40</td>\n",
              "      <td>106.67</td>\n",
              "      <td>100</td>\n",
              "      <td>noband</td>\n",
              "    </tr>\n",
              "    <tr>\n",
              "      <th>4</th>\n",
              "      <td>19910104</td>\n",
              "      <td>T218</td>\n",
              "      <td>MASSEY</td>\n",
              "      <td>38039</td>\n",
              "      <td>YES</td>\n",
              "      <td>KEY</td>\n",
              "      <td>YES</td>\n",
              "      <td>BENTON</td>\n",
              "      <td>GALLATIN</td>\n",
              "      <td>UNCOATED</td>\n",
              "      <td>UNCOATED</td>\n",
              "      <td>NO</td>\n",
              "      <td>LINE</td>\n",
              "      <td>YES</td>\n",
              "      <td>WoodHoe70</td>\n",
              "      <td>816</td>\n",
              "      <td>2</td>\n",
              "      <td>CATALOG</td>\n",
              "      <td>NorthUS</td>\n",
              "      <td>1910</td>\n",
              "      <td>50</td>\n",
              "      <td>40</td>\n",
              "      <td>0.267</td>\n",
              "      <td>16.8</td>\n",
              "      <td>76</td>\n",
              "      <td>0.4375</td>\n",
              "      <td>28</td>\n",
              "      <td>8.6</td>\n",
              "      <td>1467</td>\n",
              "      <td>53.8</td>\n",
              "      <td>37.6</td>\n",
              "      <td>5</td>\n",
              "      <td>0.0</td>\n",
              "      <td>2.5</td>\n",
              "      <td>0.8</td>\n",
              "      <td>40</td>\n",
              "      <td>40</td>\n",
              "      <td>103.87</td>\n",
              "      <td>100</td>\n",
              "      <td>noband</td>\n",
              "    </tr>\n",
              "    <tr>\n",
              "      <th>5</th>\n",
              "      <td>19910111</td>\n",
              "      <td>X249</td>\n",
              "      <td>ROSES</td>\n",
              "      <td>35751</td>\n",
              "      <td>NO</td>\n",
              "      <td>KEY</td>\n",
              "      <td>YES</td>\n",
              "      <td>BENTON</td>\n",
              "      <td>GALLATIN</td>\n",
              "      <td>COATED</td>\n",
              "      <td>COATED</td>\n",
              "      <td>NO</td>\n",
              "      <td>LINE</td>\n",
              "      <td>YES</td>\n",
              "      <td>Motter94</td>\n",
              "      <td>827</td>\n",
              "      <td>2</td>\n",
              "      <td>TABLOID</td>\n",
              "      <td>CANADIAN</td>\n",
              "      <td>1911</td>\n",
              "      <td>50</td>\n",
              "      <td>46</td>\n",
              "      <td>0.3</td>\n",
              "      <td>16.5</td>\n",
              "      <td>75</td>\n",
              "      <td>0.75</td>\n",
              "      <td>30</td>\n",
              "      <td>0.0</td>\n",
              "      <td>2600</td>\n",
              "      <td>62.5</td>\n",
              "      <td>37.5</td>\n",
              "      <td>6</td>\n",
              "      <td>0.0</td>\n",
              "      <td>2.5</td>\n",
              "      <td>0.6</td>\n",
              "      <td>30</td>\n",
              "      <td>40</td>\n",
              "      <td>106.67</td>\n",
              "      <td>100</td>\n",
              "      <td>noband</td>\n",
              "    </tr>\n",
              "    <tr>\n",
              "      <th>6</th>\n",
              "      <td>19910111</td>\n",
              "      <td>X788</td>\n",
              "      <td>ROSES</td>\n",
              "      <td>35751</td>\n",
              "      <td>NO</td>\n",
              "      <td>KEY</td>\n",
              "      <td>YES</td>\n",
              "      <td>BENTON</td>\n",
              "      <td>GALLATIN</td>\n",
              "      <td>COATED</td>\n",
              "      <td>COATED</td>\n",
              "      <td>NO</td>\n",
              "      <td>LINE</td>\n",
              "      <td>YES</td>\n",
              "      <td>Motter94</td>\n",
              "      <td>827</td>\n",
              "      <td>9</td>\n",
              "      <td>TABLOID</td>\n",
              "      <td>CANAdiAN</td>\n",
              "      <td>1911</td>\n",
              "      <td>50</td>\n",
              "      <td>46</td>\n",
              "      <td>0.2</td>\n",
              "      <td>16.5</td>\n",
              "      <td>75</td>\n",
              "      <td>0.75</td>\n",
              "      <td>28</td>\n",
              "      <td>0.0</td>\n",
              "      <td>2600</td>\n",
              "      <td>62.5</td>\n",
              "      <td>37.5</td>\n",
              "      <td>6</td>\n",
              "      <td>0.0</td>\n",
              "      <td>2.5</td>\n",
              "      <td>1.1</td>\n",
              "      <td>30</td>\n",
              "      <td>40</td>\n",
              "      <td>106.67</td>\n",
              "      <td>100</td>\n",
              "      <td>noband</td>\n",
              "    </tr>\n",
              "    <tr>\n",
              "      <th>7</th>\n",
              "      <td>19910112</td>\n",
              "      <td>M372</td>\n",
              "      <td>MODMAT</td>\n",
              "      <td>47201</td>\n",
              "      <td>YES</td>\n",
              "      <td>KEY</td>\n",
              "      <td>YES</td>\n",
              "      <td>BENTON</td>\n",
              "      <td>GALLATIN</td>\n",
              "      <td>UNCOATED</td>\n",
              "      <td>UNCOATED</td>\n",
              "      <td>NO</td>\n",
              "      <td>XYLOL</td>\n",
              "      <td>YES</td>\n",
              "      <td>Albert70</td>\n",
              "      <td>802</td>\n",
              "      <td>7</td>\n",
              "      <td>CATALOG</td>\n",
              "      <td>NorthUS</td>\n",
              "      <td>1910</td>\n",
              "      <td>50</td>\n",
              "      <td>45</td>\n",
              "      <td>0.367</td>\n",
              "      <td>12.0</td>\n",
              "      <td>70</td>\n",
              "      <td>0.75</td>\n",
              "      <td>60</td>\n",
              "      <td>0.0</td>\n",
              "      <td>1650</td>\n",
              "      <td>60.2</td>\n",
              "      <td>39.8</td>\n",
              "      <td>1.5</td>\n",
              "      <td>0.0</td>\n",
              "      <td>3</td>\n",
              "      <td>1</td>\n",
              "      <td>40</td>\n",
              "      <td>40</td>\n",
              "      <td>103.22</td>\n",
              "      <td>100</td>\n",
              "      <td>band</td>\n",
              "    </tr>\n",
              "    <tr>\n",
              "      <th>8</th>\n",
              "      <td>19910114</td>\n",
              "      <td>I320</td>\n",
              "      <td>CHILDCRAFT</td>\n",
              "      <td>37000</td>\n",
              "      <td>YES</td>\n",
              "      <td>KEY</td>\n",
              "      <td>YES</td>\n",
              "      <td>BENTON</td>\n",
              "      <td>GALLATIN</td>\n",
              "      <td>UNCOATED</td>\n",
              "      <td>UNCOATED</td>\n",
              "      <td>NO</td>\n",
              "      <td>LINE</td>\n",
              "      <td>YES</td>\n",
              "      <td>WoodHoe70</td>\n",
              "      <td>815</td>\n",
              "      <td>2</td>\n",
              "      <td>CATALOG</td>\n",
              "      <td>NorthUS</td>\n",
              "      <td>1911</td>\n",
              "      <td>65</td>\n",
              "      <td>43</td>\n",
              "      <td>0.333</td>\n",
              "      <td>16.0</td>\n",
              "      <td>75</td>\n",
              "      <td>1</td>\n",
              "      <td>32</td>\n",
              "      <td>22.7</td>\n",
              "      <td>1750</td>\n",
              "      <td>45.5</td>\n",
              "      <td>31.8</td>\n",
              "      <td>0</td>\n",
              "      <td>0.0</td>\n",
              "      <td>3</td>\n",
              "      <td>1</td>\n",
              "      <td>38</td>\n",
              "      <td>40</td>\n",
              "      <td>106.66</td>\n",
              "      <td>100</td>\n",
              "      <td>noband</td>\n",
              "    </tr>\n",
              "    <tr>\n",
              "      <th>9</th>\n",
              "      <td>19910114</td>\n",
              "      <td>I337</td>\n",
              "      <td>CHILDCRAFT</td>\n",
              "      <td>37000</td>\n",
              "      <td>YES</td>\n",
              "      <td>KEY</td>\n",
              "      <td>YES</td>\n",
              "      <td>BENTON</td>\n",
              "      <td>GALLATIN</td>\n",
              "      <td>UNCOATED</td>\n",
              "      <td>UNCOATED</td>\n",
              "      <td>NO</td>\n",
              "      <td>LINE</td>\n",
              "      <td>YES</td>\n",
              "      <td>WoodHoe70</td>\n",
              "      <td>815</td>\n",
              "      <td>9</td>\n",
              "      <td>CATALOG</td>\n",
              "      <td>NorthUS</td>\n",
              "      <td>1910</td>\n",
              "      <td>65</td>\n",
              "      <td>43</td>\n",
              "      <td>0.2</td>\n",
              "      <td>16.0</td>\n",
              "      <td>68</td>\n",
              "      <td>0.75</td>\n",
              "      <td>30</td>\n",
              "      <td>15.5</td>\n",
              "      <td>1750</td>\n",
              "      <td>48.5</td>\n",
              "      <td>35.9</td>\n",
              "      <td>0</td>\n",
              "      <td>0.0</td>\n",
              "      <td>3</td>\n",
              "      <td>1</td>\n",
              "      <td>38</td>\n",
              "      <td>40</td>\n",
              "      <td>106.6</td>\n",
              "      <td>100</td>\n",
              "      <td>noband</td>\n",
              "    </tr>\n",
              "  </tbody>\n",
              "</table>\n",
              "</div>"
            ],
            "text/plain": [
              "   timestamp cylinder number  ... chrome content  band type\n",
              "0   19910109            X266  ...            100     noband\n",
              "1   19910104              B7  ...            100     noband\n",
              "2   19910104            T133  ...            100     noband\n",
              "3   19910111             J34  ...            100     noband\n",
              "4   19910104            T218  ...            100     noband\n",
              "5   19910111            X249  ...            100     noband\n",
              "6   19910111            X788  ...            100     noband\n",
              "7   19910112            M372  ...            100       band\n",
              "8   19910114            I320  ...            100     noband\n",
              "9   19910114            I337  ...            100     noband\n",
              "\n",
              "[10 rows x 40 columns]"
            ]
          },
          "metadata": {
            "tags": []
          },
          "execution_count": 174
        }
      ]
    },
    {
      "cell_type": "code",
      "metadata": {
        "id": "0ogsLDJe7ZRd",
        "colab_type": "code",
        "outputId": "297e3306-ac29-4257-ba01-712a1b7dc215",
        "colab": {
          "base_uri": "https://localhost:8080/",
          "height": 417
        }
      },
      "source": [
        "all_data[-10:]"
      ],
      "execution_count": 0,
      "outputs": [
        {
          "output_type": "execute_result",
          "data": {
            "text/html": [
              "<div>\n",
              "<style scoped>\n",
              "    .dataframe tbody tr th:only-of-type {\n",
              "        vertical-align: middle;\n",
              "    }\n",
              "\n",
              "    .dataframe tbody tr th {\n",
              "        vertical-align: top;\n",
              "    }\n",
              "\n",
              "    .dataframe thead th {\n",
              "        text-align: right;\n",
              "    }\n",
              "</style>\n",
              "<table border=\"1\" class=\"dataframe\">\n",
              "  <thead>\n",
              "    <tr style=\"text-align: right;\">\n",
              "      <th></th>\n",
              "      <th>timestamp</th>\n",
              "      <th>cylinder number</th>\n",
              "      <th>customer</th>\n",
              "      <th>job number</th>\n",
              "      <th>grain screened</th>\n",
              "      <th>ink color</th>\n",
              "      <th>proof on ctd ink</th>\n",
              "      <th>blade mfg: nominal</th>\n",
              "      <th>cylinder division</th>\n",
              "      <th>paper type</th>\n",
              "      <th>ink type</th>\n",
              "      <th>direct steam</th>\n",
              "      <th>solvent type</th>\n",
              "      <th>type on cylinder</th>\n",
              "      <th>press type</th>\n",
              "      <th>press: nominal</th>\n",
              "      <th>unit number</th>\n",
              "      <th>cylinder size</th>\n",
              "      <th>paper mill location</th>\n",
              "      <th>plating tank</th>\n",
              "      <th>proof cut</th>\n",
              "      <th>viscosity</th>\n",
              "      <th>caliper</th>\n",
              "      <th>ink temperature</th>\n",
              "      <th>humifity</th>\n",
              "      <th>roughness</th>\n",
              "      <th>blade pressure</th>\n",
              "      <th>varnish pct</th>\n",
              "      <th>press speed</th>\n",
              "      <th>ink pct</th>\n",
              "      <th>solvent pct</th>\n",
              "      <th>ESA Voltage</th>\n",
              "      <th>ESA Amperage</th>\n",
              "      <th>wax</th>\n",
              "      <th>hardener</th>\n",
              "      <th>roller durometer</th>\n",
              "      <th>current density</th>\n",
              "      <th>anode space ratio</th>\n",
              "      <th>chrome content</th>\n",
              "      <th>band type</th>\n",
              "    </tr>\n",
              "  </thead>\n",
              "  <tbody>\n",
              "    <tr>\n",
              "      <th>289</th>\n",
              "      <td>19900813</td>\n",
              "      <td>X184</td>\n",
              "      <td>WALMART</td>\n",
              "      <td>34493</td>\n",
              "      <td>NO</td>\n",
              "      <td>KEY</td>\n",
              "      <td>YES</td>\n",
              "      <td>BENTON</td>\n",
              "      <td>GALLATIN</td>\n",
              "      <td>COATED</td>\n",
              "      <td>COATED</td>\n",
              "      <td>NO</td>\n",
              "      <td>LINE</td>\n",
              "      <td>YES</td>\n",
              "      <td>Motter94</td>\n",
              "      <td>824</td>\n",
              "      <td>2</td>\n",
              "      <td>TABLOID</td>\n",
              "      <td>None</td>\n",
              "      <td>1910</td>\n",
              "      <td>30</td>\n",
              "      <td>54</td>\n",
              "      <td>0.167</td>\n",
              "      <td>14.6</td>\n",
              "      <td>70</td>\n",
              "      <td>0.8125</td>\n",
              "      <td>30</td>\n",
              "      <td>0.0</td>\n",
              "      <td>2000</td>\n",
              "      <td>58.8</td>\n",
              "      <td>41.2</td>\n",
              "      <td>0</td>\n",
              "      <td>0.0</td>\n",
              "      <td>1.5</td>\n",
              "      <td>0.6</td>\n",
              "      <td>30</td>\n",
              "      <td>35</td>\n",
              "      <td>106.9</td>\n",
              "      <td>100</td>\n",
              "      <td>noband</td>\n",
              "    </tr>\n",
              "    <tr>\n",
              "      <th>290</th>\n",
              "      <td>19900814</td>\n",
              "      <td>R22</td>\n",
              "      <td>TARGET</td>\n",
              "      <td>34549</td>\n",
              "      <td>NO</td>\n",
              "      <td>KEY</td>\n",
              "      <td>YES</td>\n",
              "      <td>BENTON</td>\n",
              "      <td>GALLATIN</td>\n",
              "      <td>COATED</td>\n",
              "      <td>COATED</td>\n",
              "      <td>NO</td>\n",
              "      <td>LINE</td>\n",
              "      <td>YES</td>\n",
              "      <td>WoodHoe70</td>\n",
              "      <td>816</td>\n",
              "      <td>9</td>\n",
              "      <td>SPIEGEL</td>\n",
              "      <td>CANADIAN</td>\n",
              "      <td>1910</td>\n",
              "      <td>45</td>\n",
              "      <td>54</td>\n",
              "      <td>0.167</td>\n",
              "      <td>18.0</td>\n",
              "      <td>90</td>\n",
              "      <td>0.5</td>\n",
              "      <td>26</td>\n",
              "      <td>8.3</td>\n",
              "      <td>1875</td>\n",
              "      <td>52.1</td>\n",
              "      <td>39.6</td>\n",
              "      <td>0</td>\n",
              "      <td>0.0</td>\n",
              "      <td>3</td>\n",
              "      <td>1</td>\n",
              "      <td>33</td>\n",
              "      <td>35</td>\n",
              "      <td>106.9</td>\n",
              "      <td>100</td>\n",
              "      <td>noband</td>\n",
              "    </tr>\n",
              "    <tr>\n",
              "      <th>291</th>\n",
              "      <td>19900812</td>\n",
              "      <td>R23</td>\n",
              "      <td>TARGET</td>\n",
              "      <td>34549</td>\n",
              "      <td>NO</td>\n",
              "      <td>KEY</td>\n",
              "      <td>YES</td>\n",
              "      <td>BENTON</td>\n",
              "      <td>GALLATIN</td>\n",
              "      <td>COATED</td>\n",
              "      <td>COATED</td>\n",
              "      <td>NO</td>\n",
              "      <td>LINE</td>\n",
              "      <td>YES</td>\n",
              "      <td>WoodHoe70</td>\n",
              "      <td>815</td>\n",
              "      <td>9</td>\n",
              "      <td>SPIEGEL</td>\n",
              "      <td>CANADIAN</td>\n",
              "      <td>1910</td>\n",
              "      <td>45</td>\n",
              "      <td>54</td>\n",
              "      <td>0.367</td>\n",
              "      <td>15.0</td>\n",
              "      <td>100</td>\n",
              "      <td>0.75</td>\n",
              "      <td>33</td>\n",
              "      <td>2.3</td>\n",
              "      <td>2000</td>\n",
              "      <td>56.8</td>\n",
              "      <td>40.9</td>\n",
              "      <td>0</td>\n",
              "      <td>0.0</td>\n",
              "      <td>2.75</td>\n",
              "      <td>0.9</td>\n",
              "      <td>33</td>\n",
              "      <td>35</td>\n",
              "      <td>106.9</td>\n",
              "      <td>100</td>\n",
              "      <td>noband</td>\n",
              "    </tr>\n",
              "    <tr>\n",
              "      <th>292</th>\n",
              "      <td>19900819</td>\n",
              "      <td>F236</td>\n",
              "      <td>DUNNS</td>\n",
              "      <td>38016</td>\n",
              "      <td>YES</td>\n",
              "      <td>KEY</td>\n",
              "      <td>YES</td>\n",
              "      <td>BENTON</td>\n",
              "      <td>GALLATIN</td>\n",
              "      <td>UNCOATED</td>\n",
              "      <td>UNCOATED</td>\n",
              "      <td>NO</td>\n",
              "      <td>LINE</td>\n",
              "      <td>YES</td>\n",
              "      <td>Motter70</td>\n",
              "      <td>813</td>\n",
              "      <td>1</td>\n",
              "      <td>CATALOG</td>\n",
              "      <td>None</td>\n",
              "      <td>1910</td>\n",
              "      <td>45</td>\n",
              "      <td>56</td>\n",
              "      <td>0.3</td>\n",
              "      <td>15.5</td>\n",
              "      <td>78</td>\n",
              "      <td>0.75</td>\n",
              "      <td>None</td>\n",
              "      <td>11.1</td>\n",
              "      <td>1350</td>\n",
              "      <td>55.5</td>\n",
              "      <td>33.3</td>\n",
              "      <td>0</td>\n",
              "      <td>0.0</td>\n",
              "      <td>2.2</td>\n",
              "      <td>0.9</td>\n",
              "      <td>28</td>\n",
              "      <td>35</td>\n",
              "      <td>100</td>\n",
              "      <td>100</td>\n",
              "      <td>noband</td>\n",
              "    </tr>\n",
              "    <tr>\n",
              "      <th>293</th>\n",
              "      <td>19900819</td>\n",
              "      <td>F38</td>\n",
              "      <td>DUNNS</td>\n",
              "      <td>38016</td>\n",
              "      <td>YES</td>\n",
              "      <td>KEY</td>\n",
              "      <td>YES</td>\n",
              "      <td>BENTON</td>\n",
              "      <td>GALLATIN</td>\n",
              "      <td>UNCOATED</td>\n",
              "      <td>UNCOATED</td>\n",
              "      <td>NO</td>\n",
              "      <td>LINE</td>\n",
              "      <td>YES</td>\n",
              "      <td>Motter70</td>\n",
              "      <td>813</td>\n",
              "      <td>5</td>\n",
              "      <td>CATALOG</td>\n",
              "      <td>None</td>\n",
              "      <td>1911</td>\n",
              "      <td>45</td>\n",
              "      <td>56</td>\n",
              "      <td>0.233</td>\n",
              "      <td>16.0</td>\n",
              "      <td>64</td>\n",
              "      <td>0.75</td>\n",
              "      <td>None</td>\n",
              "      <td>11.1</td>\n",
              "      <td>1350</td>\n",
              "      <td>55.5</td>\n",
              "      <td>33.3</td>\n",
              "      <td>0</td>\n",
              "      <td>0.0</td>\n",
              "      <td>2.5</td>\n",
              "      <td>0.5</td>\n",
              "      <td>28</td>\n",
              "      <td>40</td>\n",
              "      <td>103.3</td>\n",
              "      <td>100</td>\n",
              "      <td>noband</td>\n",
              "    </tr>\n",
              "    <tr>\n",
              "      <th>294</th>\n",
              "      <td>19900818</td>\n",
              "      <td>X91</td>\n",
              "      <td>LAZARUS</td>\n",
              "      <td>34154</td>\n",
              "      <td>YES</td>\n",
              "      <td>KEY</td>\n",
              "      <td>YES</td>\n",
              "      <td>BENTON</td>\n",
              "      <td>GALLATIN</td>\n",
              "      <td>UNCOATED</td>\n",
              "      <td>UNCOATED</td>\n",
              "      <td>NO</td>\n",
              "      <td>LINE</td>\n",
              "      <td>NO</td>\n",
              "      <td>Motter94</td>\n",
              "      <td>828</td>\n",
              "      <td>2</td>\n",
              "      <td>TABLOID</td>\n",
              "      <td>None</td>\n",
              "      <td>1910</td>\n",
              "      <td>45</td>\n",
              "      <td>56</td>\n",
              "      <td>0.333</td>\n",
              "      <td>14.9</td>\n",
              "      <td>85</td>\n",
              "      <td>1</td>\n",
              "      <td>30</td>\n",
              "      <td>17.3</td>\n",
              "      <td>1600</td>\n",
              "      <td>48.1</td>\n",
              "      <td>34.6</td>\n",
              "      <td>0</td>\n",
              "      <td>0.0</td>\n",
              "      <td>2.8</td>\n",
              "      <td>1</td>\n",
              "      <td>40</td>\n",
              "      <td>35</td>\n",
              "      <td>100</td>\n",
              "      <td>100</td>\n",
              "      <td>noband</td>\n",
              "    </tr>\n",
              "    <tr>\n",
              "      <th>295</th>\n",
              "      <td>19900818</td>\n",
              "      <td>X132</td>\n",
              "      <td>LAZARUS</td>\n",
              "      <td>34154</td>\n",
              "      <td>YES</td>\n",
              "      <td>KEY</td>\n",
              "      <td>YES</td>\n",
              "      <td>BENTON</td>\n",
              "      <td>GALLATIN</td>\n",
              "      <td>UNCOATED</td>\n",
              "      <td>UNCOATED</td>\n",
              "      <td>NO</td>\n",
              "      <td>LINE</td>\n",
              "      <td>NO</td>\n",
              "      <td>Motter94</td>\n",
              "      <td>828</td>\n",
              "      <td>10</td>\n",
              "      <td>TABLOID</td>\n",
              "      <td>CANADIAN</td>\n",
              "      <td>1910</td>\n",
              "      <td>30</td>\n",
              "      <td>56</td>\n",
              "      <td>0.367</td>\n",
              "      <td>14.7</td>\n",
              "      <td>83</td>\n",
              "      <td>1</td>\n",
              "      <td>30</td>\n",
              "      <td>10.8</td>\n",
              "      <td>1600</td>\n",
              "      <td>53.8</td>\n",
              "      <td>35.5</td>\n",
              "      <td>0</td>\n",
              "      <td>6.0</td>\n",
              "      <td>2.6</td>\n",
              "      <td>1.2</td>\n",
              "      <td>40</td>\n",
              "      <td>35</td>\n",
              "      <td>100</td>\n",
              "      <td>100</td>\n",
              "      <td>noband</td>\n",
              "    </tr>\n",
              "    <tr>\n",
              "      <th>296</th>\n",
              "      <td>19900820</td>\n",
              "      <td>X377</td>\n",
              "      <td>AMES</td>\n",
              "      <td>34585</td>\n",
              "      <td>NO</td>\n",
              "      <td>KEY</td>\n",
              "      <td>YES</td>\n",
              "      <td>BENTON</td>\n",
              "      <td>GALLATIN</td>\n",
              "      <td>COATED</td>\n",
              "      <td>COATED</td>\n",
              "      <td>NO</td>\n",
              "      <td>LINE</td>\n",
              "      <td>YES</td>\n",
              "      <td>Motter94</td>\n",
              "      <td>828</td>\n",
              "      <td>2</td>\n",
              "      <td>TABLOID</td>\n",
              "      <td>CANADIAN</td>\n",
              "      <td>1910</td>\n",
              "      <td>57.5</td>\n",
              "      <td>57</td>\n",
              "      <td>0.367</td>\n",
              "      <td>15.3</td>\n",
              "      <td>84</td>\n",
              "      <td>1</td>\n",
              "      <td>30</td>\n",
              "      <td>19.0</td>\n",
              "      <td>2400</td>\n",
              "      <td>47.6</td>\n",
              "      <td>33.3</td>\n",
              "      <td>0</td>\n",
              "      <td>0.0</td>\n",
              "      <td>3</td>\n",
              "      <td>1</td>\n",
              "      <td>33</td>\n",
              "      <td>40</td>\n",
              "      <td>93.75</td>\n",
              "      <td>100</td>\n",
              "      <td>noband</td>\n",
              "    </tr>\n",
              "    <tr>\n",
              "      <th>297</th>\n",
              "      <td>19900820</td>\n",
              "      <td>X129</td>\n",
              "      <td>AMES</td>\n",
              "      <td>34585</td>\n",
              "      <td>NO</td>\n",
              "      <td>KEY</td>\n",
              "      <td>YES</td>\n",
              "      <td>BENTON</td>\n",
              "      <td>GALLATIN</td>\n",
              "      <td>COATED</td>\n",
              "      <td>COATED</td>\n",
              "      <td>NO</td>\n",
              "      <td>LINE</td>\n",
              "      <td>YES</td>\n",
              "      <td>Motter94</td>\n",
              "      <td>828</td>\n",
              "      <td>10</td>\n",
              "      <td>TABLOID</td>\n",
              "      <td>CANADIAN</td>\n",
              "      <td>1910</td>\n",
              "      <td>57.5</td>\n",
              "      <td>57</td>\n",
              "      <td>None</td>\n",
              "      <td>14.2</td>\n",
              "      <td>78</td>\n",
              "      <td>1</td>\n",
              "      <td>30</td>\n",
              "      <td>10.5</td>\n",
              "      <td>2400</td>\n",
              "      <td>52.6</td>\n",
              "      <td>36.8</td>\n",
              "      <td>0</td>\n",
              "      <td>0.0</td>\n",
              "      <td>2.5</td>\n",
              "      <td>1</td>\n",
              "      <td>33</td>\n",
              "      <td>40</td>\n",
              "      <td>93.75</td>\n",
              "      <td>100</td>\n",
              "      <td>noband</td>\n",
              "    </tr>\n",
              "    <tr>\n",
              "      <th>298</th>\n",
              "      <td>19900830</td>\n",
              "      <td>T204</td>\n",
              "      <td>GALLS</td>\n",
              "      <td>38061</td>\n",
              "      <td>YES</td>\n",
              "      <td>KEY</td>\n",
              "      <td>YES</td>\n",
              "      <td>BENTON</td>\n",
              "      <td>GALLATIN</td>\n",
              "      <td>UNCOATED</td>\n",
              "      <td>UNCOATED</td>\n",
              "      <td>NO</td>\n",
              "      <td>XYLOL</td>\n",
              "      <td>None</td>\n",
              "      <td>WoodHoe70</td>\n",
              "      <td>815</td>\n",
              "      <td>1</td>\n",
              "      <td>SPIEGEL</td>\n",
              "      <td>NorthUS</td>\n",
              "      <td>1911</td>\n",
              "      <td>47.5</td>\n",
              "      <td>49</td>\n",
              "      <td>0.367</td>\n",
              "      <td>15.0</td>\n",
              "      <td>84</td>\n",
              "      <td>0.75</td>\n",
              "      <td>28</td>\n",
              "      <td>2.2</td>\n",
              "      <td>1600</td>\n",
              "      <td>54.3</td>\n",
              "      <td>43.5</td>\n",
              "      <td>0</td>\n",
              "      <td>0.0</td>\n",
              "      <td>3</td>\n",
              "      <td>0.9</td>\n",
              "      <td>34</td>\n",
              "      <td>30</td>\n",
              "      <td>108.1</td>\n",
              "      <td>100</td>\n",
              "      <td>band</td>\n",
              "    </tr>\n",
              "  </tbody>\n",
              "</table>\n",
              "</div>"
            ],
            "text/plain": [
              "     timestamp cylinder number  ... chrome content  band type\n",
              "289   19900813            X184  ...            100     noband\n",
              "290   19900814             R22  ...            100     noband\n",
              "291   19900812             R23  ...            100     noband\n",
              "292   19900819            F236  ...            100     noband\n",
              "293   19900819             F38  ...            100     noband\n",
              "294   19900818             X91  ...            100     noband\n",
              "295   19900818            X132  ...            100     noband\n",
              "296   19900820            X377  ...            100     noband\n",
              "297   19900820            X129  ...            100     noband\n",
              "298   19900830            T204  ...            100       band\n",
              "\n",
              "[10 rows x 40 columns]"
            ]
          },
          "metadata": {
            "tags": []
          },
          "execution_count": 175
        }
      ]
    },
    {
      "cell_type": "markdown",
      "metadata": {
        "id": "sOVnLU9A8ADo",
        "colab_type": "text"
      },
      "source": [
        "## Создание таблицы для всех числовых значений со столбцами: среднее значение (математическое ожидание), медиана, мода, минимальное значение, макcимальное значение, размах, дисперсия, среднеквадратичное отклонение)"
      ]
    },
    {
      "cell_type": "code",
      "metadata": {
        "id": "Q1JgEMmC83AV",
        "colab_type": "code",
        "outputId": "98cd7ede-c467-4fe3-a9dd-727fcc6970e4",
        "colab": {
          "base_uri": "https://localhost:8080/",
          "height": 350
        }
      },
      "source": [
        "col_arr = all_data.columns.array\n",
        "cel_arr = all_data.to_numpy()\n",
        "num_fields = set()\n",
        "k = 0\n",
        "\n",
        "for item in cel_arr:\n",
        "  flag = False\n",
        "  for i in range(len(col_arr)):\n",
        "    if is_digit(str(item[i])) and str(item[i]) != 'nan':\n",
        "      num_fields.add(col_arr[i])\n",
        "      flag = True\n",
        "    if flag:\n",
        "      k+=1\n",
        "\n",
        "\n",
        "\n",
        "num_fields.remove('cylinder number')\n",
        "num_fields.remove('timestamp')\n",
        "\n",
        "num_data = all_data[num_fields]\n",
        "\n",
        "#Очистка данных от неккоретного заполнения \n",
        "for column in num_data.columns:\n",
        "  num_data = num_data.loc[num_data[column].apply(lambda x: is_digit(str(x)))]\n",
        "\n",
        "params = pd.DataFrame()\n",
        "mean = num_data.mean().transpose()\n",
        "mode = num_data.mode().transpose()\n",
        "median = num_data.median().transpose()\n",
        "minc = num_data.min().transpose()\n",
        "maxc = num_data.max().transpose()\n",
        "var = num_data.var().transpose()\n",
        "std = num_data.std().transpose()\n",
        "\n",
        "params.insert(0, 'Мат. ожидание', mean)\n",
        "params.insert(1, 'Мода', mode[0])\n",
        "params.insert(2, 'Медиана', median)\n",
        "params.insert(3, 'Минимальное', minc)\n",
        "params.insert(4, 'Максимальное', maxc)\n",
        "params.insert(5, 'Размах', maxc - minc)\n",
        "params.insert(6, 'Дисперсия', var)\n",
        "params.insert(7, 'Среднеквадратическое отклонение', std)\n",
        "\n",
        "print(params)\n",
        "\n",
        "\n"
      ],
      "execution_count": 0,
      "outputs": [
        {
          "output_type": "stream",
          "text": [
            "                  Мат. ожидание  ... Среднеквадратическое отклонение\n",
            "roller durometer   3.447196e+01  ...                        4.498999\n",
            "solvent pct        3.861168e+01  ...                        3.560148\n",
            "press: nominal     8.189206e+02  ...                        7.829656\n",
            "current density             inf  ...                             NaN\n",
            "varnish pct        5.881308e+00  ...                        7.164409\n",
            "humifity                    inf  ...                             NaN\n",
            "ESA Voltage        2.601005e+02  ...                             NaN\n",
            "blade pressure              inf  ...                             NaN\n",
            "job number         3.610544e+04  ...                     4460.231405\n",
            "chrome content     1.000000e+02  ...                        0.000000\n",
            "plating tank                inf  ...                             NaN\n",
            "unit number        5.214953e+00  ...                        3.290413\n",
            "ESA Amperage       3.037383e-02  ...                        0.411413\n",
            "press speed                 inf  ...                             NaN\n",
            "ink pct            5.540047e+01  ...                        5.909700\n",
            "ink temperature    1.533776e+01  ...                        1.252466\n",
            "viscosity          5.184112e+01  ...                        8.236697\n",
            "\n",
            "[17 rows x 8 columns]\n"
          ],
          "name": "stdout"
        }
      ]
    },
    {
      "cell_type": "markdown",
      "metadata": {
        "id": "Tg-z7jTDZhhQ",
        "colab_type": "text"
      },
      "source": [
        "## Вставить две гистограммы рядом для двух признаков"
      ]
    },
    {
      "cell_type": "code",
      "metadata": {
        "id": "OC3cYsfRaJi0",
        "colab_type": "code",
        "outputId": "3b7931ea-4e30-4374-e46d-e18a6ad55e46",
        "colab": {
          "base_uri": "https://localhost:8080/",
          "height": 561
        }
      },
      "source": [
        "plot1 = sns.distplot(num_data['roughness'])\n",
        "plot1 = plot1.get_figure()\n",
        "plt.show()\n",
        "plot2 = sns.distplot(num_data['press speed'])\n",
        "plot2 = plot1.get_figure()\n",
        "plt.show()"
      ],
      "execution_count": 0,
      "outputs": [
        {
          "output_type": "display_data",
          "data": {
            "image/png": "[encoded data removed]",
            "text/plain": [
              "<Figure size 432x288 with 1 Axes>"
            ]
          },
          "metadata": {
            "tags": []
          }
        },
        {
          "output_type": "display_data",
          "data": {
            "image/png": "[encoded data removed]",
            "text/plain": [
              "<Figure size 432x288 with 1 Axes>"
            ]
          },
          "metadata": {
            "tags": []
          }
        }
      ]
    },
    {
      "cell_type": "markdown",
      "metadata": {
        "id": "WzHmZe5EiSP-",
        "colab_type": "text"
      },
      "source": [
        "## Вставить изображение точек на плоскости для этих двух признаков для различных категорий"
      ]
    },
    {
      "cell_type": "code",
      "metadata": {
        "id": "dwEcisgYiWG4",
        "colab_type": "code",
        "outputId": "a91d85a1-ffc3-4402-d62f-a245d1296246",
        "colab": {
          "base_uri": "https://localhost:8080/",
          "height": 287
        }
      },
      "source": [
        "\n",
        "ax = sns.scatterplot(x=\"roughness\", y=\"press speed\",\n",
        "                     hue=\"cylinder size\",\n",
        "                     data=all_data)"
      ],
      "execution_count": 0,
      "outputs": [
        {
          "output_type": "display_data",
          "data": {
            "image/png": "[encoded data removed]",
            "text/plain": [
              "<Figure size 432x288 with 1 Axes>"
            ]
          },
          "metadata": {
            "tags": []
          }
        }
      ]
    },
    {
      "cell_type": "markdown",
      "metadata": {
        "id": "NdjCu-2rBaFI",
        "colab_type": "text"
      },
      "source": [
        "## Создать таблицу из двух столбцов с названиями \"Первый столбец\", \"Второй столбец\" с N данными, распределенными согласно нормальному закону с указанными математическим ожиданием M и среднеквадатичным отклонением отклонением S (N, S, M - из варианта)"
      ]
    },
    {
      "cell_type": "code",
      "metadata": {
        "id": "pp1-wb5GHc-l",
        "colab_type": "code",
        "outputId": "b283c7ca-b178-4ea9-f1c8-afee85ce0db7",
        "colab": {
          "base_uri": "https://localhost:8080/",
          "height": 250
        }
      },
      "source": [
        "import math\n",
        "N = 190\n",
        "M = 1\n",
        "S = 0.75\n",
        "\n",
        "num_data = num_data.astype('float')\n",
        "df1 = pd.DataFrame({\n",
        "    'Первый столбец': num_data['roughness'].head(N),\n",
        "})\n",
        "df1 = df1.apply(lambda x: (1/S*(2*math.pi)**0.5)*math.exp(-( (x-M)**2/(2*S*S) )) , axis=1)\n",
        "\n",
        "df2 = pd.DataFrame({\n",
        "    'Второй столбец': num_data['press speed'].head(N),\n",
        "})\n",
        "df2 = df2.apply(lambda x: (1/S*(2*math.pi)**0.5)*math.exp(-((x-M)**2/(2*S*S))) , axis=1)\n",
        "\n",
        "table2 = pd.DataFrame({\n",
        "    'Первый столбец': df1,\n",
        "    'Второй столбец': df2,\n",
        "})\n",
        "\n",
        "print(table2)"
      ],
      "execution_count": 0,
      "outputs": [
        {
          "output_type": "stream",
          "text": [
            "     Первый столбец  Второй столбец\n",
            "2          2.195658             0.0\n",
            "3          3.161558             0.0\n",
            "4          2.522803             0.0\n",
            "5          3.161558             0.0\n",
            "6          3.161558             0.0\n",
            "..              ...             ...\n",
            "258        3.161558             0.0\n",
            "259        3.161558             0.0\n",
            "260        3.342171             0.0\n",
            "261        3.342171             0.0\n",
            "262        3.161558             0.0\n",
            "\n",
            "[190 rows x 2 columns]\n"
          ],
          "name": "stdout"
        }
      ]
    },
    {
      "cell_type": "markdown",
      "metadata": {
        "id": "Ogao4667o1sx",
        "colab_type": "text"
      },
      "source": [
        "## Диаграммы"
      ]
    },
    {
      "cell_type": "code",
      "metadata": {
        "id": "2MOvU_Oao_bV",
        "colab_type": "code",
        "outputId": "feeef610-7149-48a0-b1fc-bdfb583588d0",
        "colab": {
          "base_uri": "https://localhost:8080/",
          "height": 612
        }
      },
      "source": [
        "sns_pl = sns.distplot(table2['Первый столбец'])\n",
        "plot = sns_pl.get_figure()\n",
        "plt.show()\n",
        "\n",
        "sns_pl = sns.distplot(table2['Второй столбец'])\n",
        "plot = sns_pl.get_figure()\n",
        "plt.show()"
      ],
      "execution_count": 0,
      "outputs": [
        {
          "output_type": "display_data",
          "data": {
            "image/png": "[encoded data removed]",
            "text/plain": [
              "<Figure size 432x288 with 1 Axes>"
            ]
          },
          "metadata": {
            "tags": []
          }
        },
        {
          "output_type": "stream",
          "text": [
            "/usr/local/lib/python3.6/dist-packages/seaborn/distributions.py:283: UserWarning: Data must have variance to compute a kernel density estimate.\n",
            "  warnings.warn(msg, UserWarning)\n"
          ],
          "name": "stderr"
        },
        {
          "output_type": "display_data",
          "data": {
            "image/png": "[encoded data removed]",
            "text/plain": [
              "<Figure size 432x288 with 1 Axes>"
            ]
          },
          "metadata": {
            "tags": []
          }
        }
      ]
    },
    {
      "cell_type": "markdown",
      "metadata": {
        "id": "3bFeOTB1Kooc",
        "colab_type": "text"
      },
      "source": [
        "## Точечный рисунок"
      ]
    },
    {
      "cell_type": "code",
      "metadata": {
        "id": "rhH2zPPiKpXO",
        "colab_type": "code",
        "outputId": "63278151-4f17-48bb-a013-202fcf8fafbe",
        "colab": {
          "base_uri": "https://localhost:8080/",
          "height": 261
        }
      },
      "source": [
        "table2.plot.scatter(x='Первый столбец', y='Второй столбец', colormap='viridis')\n",
        "\n",
        "plt.show()"
      ],
      "execution_count": 0,
      "outputs": [
        {
          "output_type": "display_data",
          "data": {
            "image/png": "[encoded data removed]",
            "text/plain": [
              "<Figure size 432x288 with 2 Axes>"
            ]
          },
          "metadata": {
            "tags": []
          }
        }
      ]
    },
    {
      "cell_type": "markdown",
      "metadata": {
        "id": "L4n3AN5p0ibv",
        "colab_type": "text"
      },
      "source": [
        "# Часть 2"
      ]
    },
    {
      "cell_type": "markdown",
      "metadata": {
        "id": "WnP7yZQhBjAT",
        "colab_type": "text"
      },
      "source": [
        "**Создание нового датафрейма только с нужными для исследования признаками**"
      ]
    },
    {
      "cell_type": "code",
      "metadata": {
        "id": "YkaWIj-kTf77",
        "colab_type": "code",
        "colab": {}
      },
      "source": [
        "def is_digit(x):\n",
        "    if x.isdigit():\n",
        "      return True\n",
        "    try:\n",
        "      float(x)\n",
        "      return True\n",
        "    except ValueError:\n",
        "      return False"
      ],
      "execution_count": 0,
      "outputs": []
    },
    {
      "cell_type": "code",
      "metadata": {
        "id": "VxAQ_3qOBp9A",
        "colab_type": "code",
        "outputId": "c6b8d8c9-2243-407e-82b8-0edf43104138",
        "colab": {
          "base_uri": "https://localhost:8080/",
          "height": 287
        }
      },
      "source": [
        "req_data = all_data.loc[:, ['roughness', 'press speed']]\n",
        "req_data.columns = ['X', 'Y']\n",
        "req_data = req_data.loc[req_data['X'].apply(lambda x: is_digit(x))]\n",
        "req_data = req_data.loc[req_data['Y'].apply(lambda x: is_digit(x))]\n",
        "req_data = req_data.astype('float')\n",
        "\n",
        "g = sns.regplot(x='X', y='Y', data=req_data)"
      ],
      "execution_count": 0,
      "outputs": [
        {
          "output_type": "display_data",
          "data": {
            "image/png": "[encoded data removed]",
            "text/plain": [
              "<Figure size 432x288 with 1 Axes>"
            ]
          },
          "metadata": {
            "tags": []
          }
        }
      ]
    },
    {
      "cell_type": "markdown",
      "metadata": {
        "id": "-XhXz70cLDWb",
        "colab_type": "text"
      },
      "source": [
        "## Коэффецент Пирсона\n",
        "\n"
      ]
    },
    {
      "cell_type": "code",
      "metadata": {
        "id": "PdU_S66bLS2Y",
        "colab_type": "code",
        "outputId": "12759dd1-0460-4665-f733-1f13705cf6f8",
        "colab": {
          "base_uri": "https://localhost:8080/",
          "height": 50
        }
      },
      "source": [
        "mx = req_data['X'].mean()\n",
        "my = req_data['Y'].mean()\n",
        "mxy = (req_data['X'] * req_data['Y']).mean()\n",
        "\n",
        "vx = req_data['X'].var()\n",
        "vy = req_data['Y'].var()\n",
        "vxy = (req_data['X'] * req_data['Y']).var()\n",
        "\n",
        "r_r = (mxy - mx*my)/(vx*vy)**0.5\n",
        "print('Ручное', r_r)\n",
        "\n",
        "r_auto = np.corrcoef(req_data['X'], req_data['Y'])[0, 1]\n",
        "\n",
        "print('Автоматическое', r_auto)"
      ],
      "execution_count": 0,
      "outputs": [
        {
          "output_type": "stream",
          "text": [
            "Ручное 0.057385534947128544\n",
            "Автоматическое 0.05759121786808399\n"
          ],
          "name": "stdout"
        }
      ]
    },
    {
      "cell_type": "markdown",
      "metadata": {
        "id": "L0mKvpaSVvko",
        "colab_type": "text"
      },
      "source": [
        "## p-value"
      ]
    },
    {
      "cell_type": "code",
      "metadata": {
        "id": "a3OOUEou2OVp",
        "colab_type": "code",
        "colab": {}
      },
      "source": [
        "def stud(t):\n",
        "  return 1/(math.pi*(1+t**2))\n",
        "\n",
        "def stud_g(t, n):\n",
        "  return math.gamma((n+1)/2) * (1+t**2/n)**(-(n+1)/2) / ((math.pi*n)**0.5 * math.gamma(n/2))\n"
      ],
      "execution_count": 0,
      "outputs": []
    },
    {
      "cell_type": "code",
      "metadata": {
        "id": "LFtMktWUV1uZ",
        "colab_type": "code",
        "outputId": "3f35dfb5-0bc9-445d-974e-fcc45eb22826",
        "colab": {
          "base_uri": "https://localhost:8080/",
          "height": 50
        }
      },
      "source": [
        "n = req_data['X'].size\n",
        "t = abs(r_r) * ((n-2)/(1-r_r**2))**0.5\n",
        "print('p-value(manual-without-gamma): ', 2 * stud(t))\n",
        "\n",
        "print('p-value(auto): ', 2 * stats.t.sf(t, n-2))\n"
      ],
      "execution_count": 0,
      "outputs": [
        {
          "output_type": "stream",
          "text": [
            "p-value(manual-without-gamma):  0.3318309301051323\n",
            "p-value(auto):  0.3387001804621905\n"
          ],
          "name": "stdout"
        }
      ]
    },
    {
      "cell_type": "markdown",
      "metadata": {
        "id": "RC_BIyzQAN_Y",
        "colab_type": "text"
      },
      "source": [
        "## Описание корреляции признаков\n",
        "Принимаем гипотезу"
      ]
    },
    {
      "cell_type": "markdown",
      "metadata": {
        "id": "u0VkMuPrP-7X",
        "colab_type": "text"
      },
      "source": [
        "## Моделирование"
      ]
    },
    {
      "cell_type": "code",
      "metadata": {
        "id": "O_P4hA3f-is2",
        "colab_type": "code",
        "outputId": "9c413d3e-7031-46d8-b387-736e9238d1af",
        "colab": {
          "base_uri": "https://localhost:8080/",
          "height": 570
        }
      },
      "source": [
        "n = 100 \n",
        "mean = [-1, 0]\n",
        "cov = [[10, -1], [-1, 1]]\n",
        "d = np.random.default_rng().multivariate_normal(mean, cov, n)\n",
        "x = []\n",
        "y = []\n",
        "\n",
        "for row in d:\n",
        "  x.append(row[0])\n",
        "  y.append(row[1])\n",
        "\n",
        "vector = pd.DataFrame(data={\"X\": x, \"Y\": y})\n",
        "print(vector)\n",
        "vector.hist()"
      ],
      "execution_count": 0,
      "outputs": [
        {
          "output_type": "stream",
          "text": [
            "           X         Y\n",
            "0   1.489461  0.879263\n",
            "1   6.566034 -1.970416\n",
            "2   0.354168  1.072094\n",
            "3   1.226052 -1.055481\n",
            "4   2.901008  0.598870\n",
            "..       ...       ...\n",
            "95 -2.337403 -0.002165\n",
            "96 -9.051696  1.151830\n",
            "97 -3.175393 -0.197524\n",
            "98 -3.911040  0.447840\n",
            "99 -0.298318  0.931434\n",
            "\n",
            "[100 rows x 2 columns]\n"
          ],
          "name": "stdout"
        },
        {
          "output_type": "execute_result",
          "data": {
            "text/plain": [
              "array([[<matplotlib.axes._subplots.AxesSubplot object at 0x7f29765c7be0>,\n",
              "        <matplotlib.axes._subplots.AxesSubplot object at 0x7f29765357f0>]],\n",
              "      dtype=object)"
            ]
          },
          "metadata": {
            "tags": []
          },
          "execution_count": 187
        },
        {
          "output_type": "display_data",
          "data": {
            "image/png": "[encoded data removed]",
            "text/plain": [
              "<Figure size 432x288 with 2 Axes>"
            ]
          },
          "metadata": {
            "tags": []
          }
        }
      ]
    },
    {
      "cell_type": "markdown",
      "metadata": {
        "id": "_Qmw2EvF_DqO",
        "colab_type": "text"
      },
      "source": [
        "## Вывод точек"
      ]
    },
    {
      "cell_type": "code",
      "metadata": {
        "id": "OqGknW6K_H8p",
        "colab_type": "code",
        "outputId": "f9a346b2-631f-43c0-fc42-6fd0d55c240a",
        "colab": {
          "base_uri": "https://localhost:8080/",
          "height": 362
        }
      },
      "source": [
        "sns.lmplot(x='X', y='Y', data=vector, fit_reg=True)\n",
        "plt.show()"
      ],
      "execution_count": 0,
      "outputs": [
        {
          "output_type": "display_data",
          "data": {
            "image/png": "[encoded data removed]",
            "text/plain": [
              "<Figure size 360x360 with 1 Axes>"
            ]
          },
          "metadata": {
            "tags": []
          }
        }
      ]
    },
    {
      "cell_type": "markdown",
      "metadata": {
        "id": "rjJcnTgQ_TrI",
        "colab_type": "text"
      },
      "source": [
        "## Расчёт коэффициента корреляции Пирсона"
      ]
    },
    {
      "cell_type": "code",
      "metadata": {
        "id": "bhpspIYL_WGx",
        "colab_type": "code",
        "outputId": "f4de24b6-719f-44ed-99f0-7411d8adc6e2",
        "colab": {
          "base_uri": "https://localhost:8080/",
          "height": 50
        }
      },
      "source": [
        "mx = vector['X'].mean()\n",
        "my = vector['Y'].mean()\n",
        "mxy = (vector['X'] * vector['Y']).mean()\n",
        "\n",
        "vx = vector['X'].var()\n",
        "vy = vector['Y'].var()\n",
        "vxy = (vector['X'] * vector['Y']).var()\n",
        "\n",
        "r_r = (mxy - mx*my)/(vx*vy)**0.5\n",
        "print('Ручное', r_r)\n",
        "\n",
        "r_auto = np.corrcoef(vector['X'], vector['Y'])[0, 1]\n",
        "\n",
        "print('Автоматическое', r_auto)"
      ],
      "execution_count": 0,
      "outputs": [
        {
          "output_type": "stream",
          "text": [
            "Ручное -0.42567062935967614\n",
            "Автоматическое -0.4299703326865417\n"
          ],
          "name": "stdout"
        }
      ]
    },
    {
      "cell_type": "markdown",
      "metadata": {
        "id": "jGoboJri_l4J",
        "colab_type": "text"
      },
      "source": [
        "##  Расчёт p-value"
      ]
    },
    {
      "cell_type": "code",
      "metadata": {
        "id": "MFZt5Wab_rfQ",
        "colab_type": "code",
        "outputId": "a75bae3f-ae96-440f-9b60-8bad694ff5ec",
        "colab": {
          "base_uri": "https://localhost:8080/",
          "height": 33
        }
      },
      "source": [
        "n = req_data['X'].size\n",
        "t = abs(r_r) * ((n-2)/(1-r_r**2))**0.5\n",
        "\n",
        "print('p-value: ', 2 * stats.t.sf(t, n-2))"
      ],
      "execution_count": 0,
      "outputs": [
        {
          "output_type": "stream",
          "text": [
            "p-value:  9.457073897993011e-14\n"
          ],
          "name": "stdout"
        }
      ]
    },
    {
      "cell_type": "markdown",
      "metadata": {
        "id": "8eU6bBLCAAYk",
        "colab_type": "text"
      },
      "source": [
        "## Описание корреляции признаков\n",
        "Отвергаем гипотезу"
      ]
    },
    {
      "cell_type": "markdown",
      "metadata": {
        "id": "Znk5f-REkm_7",
        "colab_type": "text"
      },
      "source": [
        "# Часть 3"
      ]
    },
    {
      "cell_type": "markdown",
      "metadata": {
        "id": "c5nXECFxHRSh",
        "colab_type": "text"
      },
      "source": [
        "## Моделирование данных (x , y ) по функции y = ax + b + ε. В качестве ε нужно использовать гауссовский белый шум с нулевым математическим ожиданием и заданной дисперсией σ^2 . Значения x выбираются через равные промежутки на отрезке [0;1] (количество точек n, параметры a, b, σ согласно варианту)\n",
        "\n",
        "n = 130\n",
        "\n",
        "a = -2\n",
        "\n",
        "b = -10\n",
        "\n",
        "σ^2 = 0.05"
      ]
    },
    {
      "cell_type": "code",
      "metadata": {
        "id": "U6PsGhOvJhVv",
        "colab_type": "code",
        "outputId": "302acfc8-c2a3-4369-a11c-4727c370e53c",
        "colab": {
          "base_uri": "https://localhost:8080/",
          "height": 250
        }
      },
      "source": [
        "n = 130\n",
        "x = np.linspace(-2, 10, n)\n",
        "e = np.random.normal(0, 0.05, n)\n",
        "y = -2*x-2+e\n",
        "data = pd.DataFrame({'X':x,'Y':y})\n",
        "print(data)"
      ],
      "execution_count": 0,
      "outputs": [
        {
          "output_type": "stream",
          "text": [
            "             X          Y\n",
            "0    -2.000000   1.999017\n",
            "1    -1.906977   1.831853\n",
            "2    -1.813953   1.580275\n",
            "3    -1.720930   1.491418\n",
            "4    -1.627907   1.202324\n",
            "..         ...        ...\n",
            "125   9.627907 -21.240085\n",
            "126   9.720930 -21.428743\n",
            "127   9.813953 -21.645888\n",
            "128   9.906977 -21.832824\n",
            "129  10.000000 -21.994054\n",
            "\n",
            "[130 rows x 2 columns]\n"
          ],
          "name": "stdout"
        }
      ]
    },
    {
      "cell_type": "markdown",
      "metadata": {
        "id": "KsEDVJ4LIL5V",
        "colab_type": "text"
      },
      "source": [
        "## Изображение на плоскости"
      ]
    },
    {
      "cell_type": "code",
      "metadata": {
        "id": "fUOMkqoaWo16",
        "colab_type": "code",
        "outputId": "da081043-2bd0-4736-cf77-4e4b1c4cf918",
        "colab": {
          "base_uri": "https://localhost:8080/"
        }
      },
      "source": [
        "fig, ax = plt.subplots()\n",
        "ax.scatter(x, y) \n",
        "plt.show()"
      ],
      "execution_count": 0,
      "outputs": [
        {
          "output_type": "display_data",
          "data": {
            "image/png": "[encoded data removed]",
            "text/plain": [
              "<Figure size 432x288 with 1 Axes>"
            ]
          },
          "metadata": {
            "tags": []
          }
        }
      ]
    },
    {
      "cell_type": "markdown",
      "metadata": {
        "id": "9voJ2KGGl6e1",
        "colab_type": "text"
      },
      "source": [
        "## Линейная регрессия"
      ]
    },
    {
      "cell_type": "code",
      "metadata": {
        "id": "hzZ8A_JnoUY8",
        "colab_type": "code",
        "outputId": "7266e48d-d7c5-439a-f313-15e7bc5081da",
        "colab": {
          "base_uri": "https://localhost:8080/"
        }
      },
      "source": [
        "sns.set_context(\"notebook\", font_scale=1.1)\n",
        "sns.set_style(\"ticks\")\n",
        "sns.lmplot('X','Y', data=data)\n",
        "plt.ylabel('Response')\n",
        "plt.xlabel('Explanatory')"
      ],
      "execution_count": 0,
      "outputs": [
        {
          "output_type": "execute_result",
          "data": {
            "text/plain": [
              "Text(0.5, 10.255999999999986, 'Explanatory')"
            ]
          },
          "metadata": {
            "tags": []
          },
          "execution_count": 193
        },
        {
          "output_type": "display_data",
          "data": {
            "image/png": "[encoded data removed]",
            "text/plain": [
              "<Figure size 360x360 with 1 Axes>"
            ]
          },
          "metadata": {
            "tags": []
          }
        }
      ]
    },
    {
      "cell_type": "markdown",
      "metadata": {
        "id": "hOsHFFCJWzJp",
        "colab_type": "text"
      },
      "source": [
        "## Линейная регрессия через sklearn"
      ]
    },
    {
      "cell_type": "code",
      "metadata": {
        "id": "OgkHJSxKmAEs",
        "colab_type": "code",
        "outputId": "26ea75ae-fa9d-45b5-98f4-097697645861",
        "colab": {
          "base_uri": "https://localhost:8080/"
        }
      },
      "source": [
        "from sklearn import linear_model\n",
        "\n",
        "linear = linear_model.LinearRegression()\n",
        "trainX = np.asarray(data.X[50:len(data.X)]).reshape(-1, 1)\n",
        "trainY = np.asarray(data.Y[50:len(data.Y)]).reshape(-1, 1)\n",
        "testX = np.asarray(data.X[:50]).reshape(-1, 1)\n",
        "testY = np.asarray(data.Y[:50]).reshape(-1, 1)\n",
        "linear.fit(trainX, trainY)\n",
        "print(linear.score(trainX, trainY))\n",
        "\n",
        "\n",
        "predicted = linear.predict(testX)\n",
        "plt.scatter(testX, testY,  color='black')\n",
        "plt.plot(testX, predicted, color='blue', linewidth=3, label='reg')\n",
        "plt.plot(testX, -2*testX-2, label='y=-2x-2', color = 'black')\n",
        "plt.legend()\n",
        "\n",
        "plt.xlabel('X')\n",
        "plt.ylabel('Y')\n",
        "\n",
        "\n",
        "plt.show()\n"
      ],
      "execution_count": 0,
      "outputs": [
        {
          "output_type": "stream",
          "text": [
            "0.9998779865065185\n"
          ],
          "name": "stdout"
        },
        {
          "output_type": "display_data",
          "data": {
            "image/png": "[encoded data removed]",
            "text/plain": [
              "<Figure size 432x288 with 1 Axes>"
            ]
          },
          "metadata": {
            "tags": []
          }
        }
      ]
    },
    {
      "cell_type": "markdown",
      "metadata": {
        "id": "YoHofwGDW8CV",
        "colab_type": "text"
      },
      "source": [
        "## Линейная регрессия через матричное уравнение"
      ]
    },
    {
      "cell_type": "code",
      "metadata": {
        "id": "mamwGf5WXFmd",
        "colab_type": "code",
        "outputId": "bae8d2c7-85f9-4edc-faeb-f7d60d49d7ba",
        "colab": {
          "base_uri": "https://localhost:8080/"
        }
      },
      "source": [
        "X = data['X']\n",
        "Y = data['Y']\n",
        "XY = X * Y\n",
        "a = np.array([[X.apply(lambda x: x*x).sum(), X.sum()], [X.sum(), n]])\n",
        "b = np.array([XY.sum(), Y.sum()])\n",
        "res = np.linalg.solve(a, b)\n",
        "print('a =', res[0])\n",
        "print('b =', res[1])"
      ],
      "execution_count": 0,
      "outputs": [
        {
          "output_type": "stream",
          "text": [
            "a = -2.0001522528999356\n",
            "b = -1.9991101513638179\n"
          ],
          "name": "stdout"
        }
      ]
    },
    {
      "cell_type": "code",
      "metadata": {
        "id": "c9XYo5p6b_v0",
        "colab_type": "code",
        "outputId": "dd7729d1-928c-4062-9aac-d26a3789daab",
        "colab": {
          "base_uri": "https://localhost:8080/"
        }
      },
      "source": [
        "Y_REG = res[0]*X+res[1]\n",
        "data.insert(2, column='Y_REG', value=Y_REG)\n",
        "print(data)"
      ],
      "execution_count": 0,
      "outputs": [
        {
          "output_type": "stream",
          "text": [
            "             X          Y      Y_REG\n",
            "0    -2.000000   1.999017   2.001194\n",
            "1    -1.906977   1.831853   1.815134\n",
            "2    -1.813953   1.580275   1.629073\n",
            "3    -1.720930   1.491418   1.443012\n",
            "4    -1.627907   1.202324   1.256952\n",
            "..         ...        ...        ...\n",
            "125   9.627907 -21.240085 -21.256390\n",
            "126   9.720930 -21.428743 -21.442451\n",
            "127   9.813953 -21.645888 -21.628511\n",
            "128   9.906977 -21.832824 -21.814572\n",
            "129  10.000000 -21.994054 -22.000633\n",
            "\n",
            "[130 rows x 3 columns]\n"
          ],
          "name": "stdout"
        }
      ]
    },
    {
      "cell_type": "markdown",
      "metadata": {
        "id": "AXM0BrkXeBN2",
        "colab_type": "text"
      },
      "source": [
        "## Визуализация точек и 2 прямых"
      ]
    },
    {
      "cell_type": "code",
      "metadata": {
        "id": "0apoQOdFeItY",
        "colab_type": "code",
        "outputId": "96c9ed62-be9d-4231-ef93-a55996864edb",
        "colab": {
          "base_uri": "https://localhost:8080/"
        }
      },
      "source": [
        "ax = data.plot.scatter(x='X', y='Y')\n",
        "\n",
        "data.plot.line(\n",
        "    x='X',\n",
        "    y='Y_REG',\n",
        "    ax=ax\n",
        ")"
      ],
      "execution_count": 0,
      "outputs": [
        {
          "output_type": "execute_result",
          "data": {
            "text/plain": [
              "<matplotlib.axes._subplots.AxesSubplot at 0x7f2970a671d0>"
            ]
          },
          "metadata": {
            "tags": []
          },
          "execution_count": 197
        },
        {
          "output_type": "display_data",
          "data": {
            "image/png": "[encoded data removed]",
            "text/plain": [
              "<Figure size 432x288 with 1 Axes>"
            ]
          },
          "metadata": {
            "tags": []
          }
        }
      ]
    },
    {
      "cell_type": "markdown",
      "metadata": {
        "id": "xJ1LRIcZUz9X",
        "colab_type": "text"
      },
      "source": [
        "## Вычисление коэффициента детерминации\n"
      ]
    },
    {
      "cell_type": "code",
      "metadata": {
        "id": "7_4gEEoSVBfj",
        "colab_type": "code",
        "outputId": "cca60d51-c81c-43ce-985b-fca132176819",
        "colab": {
          "base_uri": "https://localhost:8080/"
        }
      },
      "source": [
        "rss = 0\n",
        "tss = 0\n",
        "y = data['Y'].sum() / data['Y'].size\n",
        "for i in range(data['Y'].size):\n",
        "  rss += (data['Y'][i] - data['Y_REG'][i])**2\n",
        "for i in range(data['Y'].size):\n",
        "  tss += (data['Y'][i] - y)**2\n",
        "r = 1 - rss / tss\n",
        "\n",
        "print(r)"
      ],
      "execution_count": 0,
      "outputs": [
        {
          "output_type": "stream",
          "text": [
            "0.999955652531705\n"
          ],
          "name": "stdout"
        }
      ]
    },
    {
      "cell_type": "markdown",
      "metadata": {
        "id": "xZCkWbYtXwHL",
        "colab_type": "text"
      },
      "source": [
        "## Получение всех данных из csv, вывод "
      ]
    },
    {
      "cell_type": "code",
      "metadata": {
        "id": "4X6a3Y-6oTeg",
        "colab_type": "code",
        "outputId": "87124787-b0fc-45ba-dc4d-dcc671ed6ef6",
        "colab": {
          "base_uri": "https://localhost:8080/"
        }
      },
      "source": [
        "all_data = pd.read_csv('bands_new.csv')\n",
        "#пришлось фильтровать столбцы \n",
        "\n",
        "all_data"
      ],
      "execution_count": 0,
      "outputs": [
        {
          "output_type": "execute_result",
          "data": {
            "text/html": [
              "<div>\n",
              "<style scoped>\n",
              "    .dataframe tbody tr th:only-of-type {\n",
              "        vertical-align: middle;\n",
              "    }\n",
              "\n",
              "    .dataframe tbody tr th {\n",
              "        vertical-align: top;\n",
              "    }\n",
              "\n",
              "    .dataframe thead th {\n",
              "        text-align: right;\n",
              "    }\n",
              "</style>\n",
              "<table border=\"1\" class=\"dataframe\">\n",
              "  <thead>\n",
              "    <tr style=\"text-align: right;\">\n",
              "      <th></th>\n",
              "      <th>timestamp</th>\n",
              "      <th>cylinder number</th>\n",
              "      <th>customer</th>\n",
              "      <th>job number</th>\n",
              "      <th>grain screened</th>\n",
              "      <th>ink color</th>\n",
              "      <th>proof on ctd ink</th>\n",
              "      <th>blade mfg: nominal</th>\n",
              "      <th>cylinder division</th>\n",
              "      <th>paper type</th>\n",
              "      <th>ink type</th>\n",
              "      <th>direct steam</th>\n",
              "      <th>solvent type</th>\n",
              "      <th>type on cylinder</th>\n",
              "      <th>press type</th>\n",
              "      <th>press: nominal</th>\n",
              "      <th>unit number</th>\n",
              "      <th>cylinder size</th>\n",
              "      <th>paper mill location</th>\n",
              "      <th>plating tank</th>\n",
              "      <th>proof cut</th>\n",
              "      <th>viscosity</th>\n",
              "      <th>caliper</th>\n",
              "      <th>ink temperature</th>\n",
              "      <th>humifity</th>\n",
              "      <th>roughness</th>\n",
              "      <th>blade pressure</th>\n",
              "      <th>varnish pct</th>\n",
              "      <th>press speed</th>\n",
              "      <th>ink pct</th>\n",
              "      <th>solvent pct</th>\n",
              "      <th>ESA Voltage</th>\n",
              "      <th>ESA Amperage</th>\n",
              "      <th>wax</th>\n",
              "      <th>hardener</th>\n",
              "      <th>roller durometer</th>\n",
              "      <th>current density</th>\n",
              "      <th>anode space ratio</th>\n",
              "      <th>chrome content</th>\n",
              "      <th>band type</th>\n",
              "    </tr>\n",
              "  </thead>\n",
              "  <tbody>\n",
              "    <tr>\n",
              "      <th>0</th>\n",
              "      <td>19910109</td>\n",
              "      <td>X266</td>\n",
              "      <td>TVGUIDE</td>\n",
              "      <td>25503</td>\n",
              "      <td>YES</td>\n",
              "      <td>KEY</td>\n",
              "      <td>YES</td>\n",
              "      <td>BENTON</td>\n",
              "      <td>GALLATIN</td>\n",
              "      <td>UNCOATED</td>\n",
              "      <td>UNCOATED</td>\n",
              "      <td>NO</td>\n",
              "      <td>LINE</td>\n",
              "      <td>YES</td>\n",
              "      <td>Motter94</td>\n",
              "      <td>821</td>\n",
              "      <td>2</td>\n",
              "      <td>TABLOID</td>\n",
              "      <td>NorthUS</td>\n",
              "      <td>None</td>\n",
              "      <td>55</td>\n",
              "      <td>46</td>\n",
              "      <td>0.3</td>\n",
              "      <td>15.0</td>\n",
              "      <td>80</td>\n",
              "      <td>0.75</td>\n",
              "      <td>20</td>\n",
              "      <td>6.6</td>\n",
              "      <td>1900</td>\n",
              "      <td>54.9</td>\n",
              "      <td>38.5</td>\n",
              "      <td>0</td>\n",
              "      <td>0.0</td>\n",
              "      <td>2.5</td>\n",
              "      <td>0.7</td>\n",
              "      <td>34</td>\n",
              "      <td>40</td>\n",
              "      <td>105</td>\n",
              "      <td>100</td>\n",
              "      <td>noband</td>\n",
              "    </tr>\n",
              "    <tr>\n",
              "      <th>1</th>\n",
              "      <td>19910104</td>\n",
              "      <td>B7</td>\n",
              "      <td>MODMAT</td>\n",
              "      <td>47201</td>\n",
              "      <td>YES</td>\n",
              "      <td>KEY</td>\n",
              "      <td>YES</td>\n",
              "      <td>BENTON</td>\n",
              "      <td>GALLATIN</td>\n",
              "      <td>UNCOATED</td>\n",
              "      <td>COATED</td>\n",
              "      <td>NO</td>\n",
              "      <td>LINE</td>\n",
              "      <td>YES</td>\n",
              "      <td>WoodHoe70</td>\n",
              "      <td>815</td>\n",
              "      <td>9</td>\n",
              "      <td>CATALOG</td>\n",
              "      <td>NorthUS</td>\n",
              "      <td>None</td>\n",
              "      <td>62</td>\n",
              "      <td>40</td>\n",
              "      <td>0.433</td>\n",
              "      <td>16.0</td>\n",
              "      <td>80</td>\n",
              "      <td>None</td>\n",
              "      <td>30</td>\n",
              "      <td>6.5</td>\n",
              "      <td>1850</td>\n",
              "      <td>53.8</td>\n",
              "      <td>39.8</td>\n",
              "      <td>0</td>\n",
              "      <td>0.0</td>\n",
              "      <td>2.8</td>\n",
              "      <td>0.9</td>\n",
              "      <td>40</td>\n",
              "      <td>40</td>\n",
              "      <td>103.87</td>\n",
              "      <td>100</td>\n",
              "      <td>noband</td>\n",
              "    </tr>\n",
              "    <tr>\n",
              "      <th>2</th>\n",
              "      <td>19910104</td>\n",
              "      <td>T133</td>\n",
              "      <td>MASSEY</td>\n",
              "      <td>39039</td>\n",
              "      <td>YES</td>\n",
              "      <td>KEY</td>\n",
              "      <td>YES</td>\n",
              "      <td>BENTON</td>\n",
              "      <td>GALLATIN</td>\n",
              "      <td>UNCOATED</td>\n",
              "      <td>UNCOATED</td>\n",
              "      <td>NO</td>\n",
              "      <td>LINE</td>\n",
              "      <td>YES</td>\n",
              "      <td>WoodHoe70</td>\n",
              "      <td>816</td>\n",
              "      <td>9</td>\n",
              "      <td>CATALOG</td>\n",
              "      <td>NorthUS</td>\n",
              "      <td>1910</td>\n",
              "      <td>52</td>\n",
              "      <td>40</td>\n",
              "      <td>0.3</td>\n",
              "      <td>16.0</td>\n",
              "      <td>75</td>\n",
              "      <td>0.3125</td>\n",
              "      <td>30</td>\n",
              "      <td>5.6</td>\n",
              "      <td>1467</td>\n",
              "      <td>55.6</td>\n",
              "      <td>38.8</td>\n",
              "      <td>0</td>\n",
              "      <td>0.0</td>\n",
              "      <td>2.5</td>\n",
              "      <td>1.3</td>\n",
              "      <td>40</td>\n",
              "      <td>40</td>\n",
              "      <td>108.06</td>\n",
              "      <td>100</td>\n",
              "      <td>noband</td>\n",
              "    </tr>\n",
              "    <tr>\n",
              "      <th>3</th>\n",
              "      <td>19910111</td>\n",
              "      <td>J34</td>\n",
              "      <td>KMART</td>\n",
              "      <td>37351</td>\n",
              "      <td>NO</td>\n",
              "      <td>KEY</td>\n",
              "      <td>YES</td>\n",
              "      <td>BENTON</td>\n",
              "      <td>GALLATIN</td>\n",
              "      <td>UNCOATED</td>\n",
              "      <td>COATED</td>\n",
              "      <td>NO</td>\n",
              "      <td>LINE</td>\n",
              "      <td>YES</td>\n",
              "      <td>WoodHoe70</td>\n",
              "      <td>816</td>\n",
              "      <td>2</td>\n",
              "      <td>TABLOID</td>\n",
              "      <td>None</td>\n",
              "      <td>1910</td>\n",
              "      <td>50</td>\n",
              "      <td>46</td>\n",
              "      <td>0.3</td>\n",
              "      <td>17.0</td>\n",
              "      <td>80</td>\n",
              "      <td>0.75</td>\n",
              "      <td>30</td>\n",
              "      <td>0.0</td>\n",
              "      <td>2100</td>\n",
              "      <td>57.5</td>\n",
              "      <td>42.5</td>\n",
              "      <td>5</td>\n",
              "      <td>0.0</td>\n",
              "      <td>2.3</td>\n",
              "      <td>0.6</td>\n",
              "      <td>35</td>\n",
              "      <td>40</td>\n",
              "      <td>106.67</td>\n",
              "      <td>100</td>\n",
              "      <td>noband</td>\n",
              "    </tr>\n",
              "    <tr>\n",
              "      <th>4</th>\n",
              "      <td>19910104</td>\n",
              "      <td>T218</td>\n",
              "      <td>MASSEY</td>\n",
              "      <td>38039</td>\n",
              "      <td>YES</td>\n",
              "      <td>KEY</td>\n",
              "      <td>YES</td>\n",
              "      <td>BENTON</td>\n",
              "      <td>GALLATIN</td>\n",
              "      <td>UNCOATED</td>\n",
              "      <td>UNCOATED</td>\n",
              "      <td>NO</td>\n",
              "      <td>LINE</td>\n",
              "      <td>YES</td>\n",
              "      <td>WoodHoe70</td>\n",
              "      <td>816</td>\n",
              "      <td>2</td>\n",
              "      <td>CATALOG</td>\n",
              "      <td>NorthUS</td>\n",
              "      <td>1910</td>\n",
              "      <td>50</td>\n",
              "      <td>40</td>\n",
              "      <td>0.267</td>\n",
              "      <td>16.8</td>\n",
              "      <td>76</td>\n",
              "      <td>0.4375</td>\n",
              "      <td>28</td>\n",
              "      <td>8.6</td>\n",
              "      <td>1467</td>\n",
              "      <td>53.8</td>\n",
              "      <td>37.6</td>\n",
              "      <td>5</td>\n",
              "      <td>0.0</td>\n",
              "      <td>2.5</td>\n",
              "      <td>0.8</td>\n",
              "      <td>40</td>\n",
              "      <td>40</td>\n",
              "      <td>103.87</td>\n",
              "      <td>100</td>\n",
              "      <td>noband</td>\n",
              "    </tr>\n",
              "    <tr>\n",
              "      <th>...</th>\n",
              "      <td>...</td>\n",
              "      <td>...</td>\n",
              "      <td>...</td>\n",
              "      <td>...</td>\n",
              "      <td>...</td>\n",
              "      <td>...</td>\n",
              "      <td>...</td>\n",
              "      <td>...</td>\n",
              "      <td>...</td>\n",
              "      <td>...</td>\n",
              "      <td>...</td>\n",
              "      <td>...</td>\n",
              "      <td>...</td>\n",
              "      <td>...</td>\n",
              "      <td>...</td>\n",
              "      <td>...</td>\n",
              "      <td>...</td>\n",
              "      <td>...</td>\n",
              "      <td>...</td>\n",
              "      <td>...</td>\n",
              "      <td>...</td>\n",
              "      <td>...</td>\n",
              "      <td>...</td>\n",
              "      <td>...</td>\n",
              "      <td>...</td>\n",
              "      <td>...</td>\n",
              "      <td>...</td>\n",
              "      <td>...</td>\n",
              "      <td>...</td>\n",
              "      <td>...</td>\n",
              "      <td>...</td>\n",
              "      <td>...</td>\n",
              "      <td>...</td>\n",
              "      <td>...</td>\n",
              "      <td>...</td>\n",
              "      <td>...</td>\n",
              "      <td>...</td>\n",
              "      <td>...</td>\n",
              "      <td>...</td>\n",
              "      <td>...</td>\n",
              "    </tr>\n",
              "    <tr>\n",
              "      <th>294</th>\n",
              "      <td>19900818</td>\n",
              "      <td>X91</td>\n",
              "      <td>LAZARUS</td>\n",
              "      <td>34154</td>\n",
              "      <td>YES</td>\n",
              "      <td>KEY</td>\n",
              "      <td>YES</td>\n",
              "      <td>BENTON</td>\n",
              "      <td>GALLATIN</td>\n",
              "      <td>UNCOATED</td>\n",
              "      <td>UNCOATED</td>\n",
              "      <td>NO</td>\n",
              "      <td>LINE</td>\n",
              "      <td>NO</td>\n",
              "      <td>Motter94</td>\n",
              "      <td>828</td>\n",
              "      <td>2</td>\n",
              "      <td>TABLOID</td>\n",
              "      <td>None</td>\n",
              "      <td>1910</td>\n",
              "      <td>45</td>\n",
              "      <td>56</td>\n",
              "      <td>0.333</td>\n",
              "      <td>14.9</td>\n",
              "      <td>85</td>\n",
              "      <td>1</td>\n",
              "      <td>30</td>\n",
              "      <td>17.3</td>\n",
              "      <td>1600</td>\n",
              "      <td>48.1</td>\n",
              "      <td>34.6</td>\n",
              "      <td>0</td>\n",
              "      <td>0.0</td>\n",
              "      <td>2.8</td>\n",
              "      <td>1</td>\n",
              "      <td>40</td>\n",
              "      <td>35</td>\n",
              "      <td>100</td>\n",
              "      <td>100</td>\n",
              "      <td>noband</td>\n",
              "    </tr>\n",
              "    <tr>\n",
              "      <th>295</th>\n",
              "      <td>19900818</td>\n",
              "      <td>X132</td>\n",
              "      <td>LAZARUS</td>\n",
              "      <td>34154</td>\n",
              "      <td>YES</td>\n",
              "      <td>KEY</td>\n",
              "      <td>YES</td>\n",
              "      <td>BENTON</td>\n",
              "      <td>GALLATIN</td>\n",
              "      <td>UNCOATED</td>\n",
              "      <td>UNCOATED</td>\n",
              "      <td>NO</td>\n",
              "      <td>LINE</td>\n",
              "      <td>NO</td>\n",
              "      <td>Motter94</td>\n",
              "      <td>828</td>\n",
              "      <td>10</td>\n",
              "      <td>TABLOID</td>\n",
              "      <td>CANADIAN</td>\n",
              "      <td>1910</td>\n",
              "      <td>30</td>\n",
              "      <td>56</td>\n",
              "      <td>0.367</td>\n",
              "      <td>14.7</td>\n",
              "      <td>83</td>\n",
              "      <td>1</td>\n",
              "      <td>30</td>\n",
              "      <td>10.8</td>\n",
              "      <td>1600</td>\n",
              "      <td>53.8</td>\n",
              "      <td>35.5</td>\n",
              "      <td>0</td>\n",
              "      <td>6.0</td>\n",
              "      <td>2.6</td>\n",
              "      <td>1.2</td>\n",
              "      <td>40</td>\n",
              "      <td>35</td>\n",
              "      <td>100</td>\n",
              "      <td>100</td>\n",
              "      <td>noband</td>\n",
              "    </tr>\n",
              "    <tr>\n",
              "      <th>296</th>\n",
              "      <td>19900820</td>\n",
              "      <td>X377</td>\n",
              "      <td>AMES</td>\n",
              "      <td>34585</td>\n",
              "      <td>NO</td>\n",
              "      <td>KEY</td>\n",
              "      <td>YES</td>\n",
              "      <td>BENTON</td>\n",
              "      <td>GALLATIN</td>\n",
              "      <td>COATED</td>\n",
              "      <td>COATED</td>\n",
              "      <td>NO</td>\n",
              "      <td>LINE</td>\n",
              "      <td>YES</td>\n",
              "      <td>Motter94</td>\n",
              "      <td>828</td>\n",
              "      <td>2</td>\n",
              "      <td>TABLOID</td>\n",
              "      <td>CANADIAN</td>\n",
              "      <td>1910</td>\n",
              "      <td>57.5</td>\n",
              "      <td>57</td>\n",
              "      <td>0.367</td>\n",
              "      <td>15.3</td>\n",
              "      <td>84</td>\n",
              "      <td>1</td>\n",
              "      <td>30</td>\n",
              "      <td>19.0</td>\n",
              "      <td>2400</td>\n",
              "      <td>47.6</td>\n",
              "      <td>33.3</td>\n",
              "      <td>0</td>\n",
              "      <td>0.0</td>\n",
              "      <td>3</td>\n",
              "      <td>1</td>\n",
              "      <td>33</td>\n",
              "      <td>40</td>\n",
              "      <td>93.75</td>\n",
              "      <td>100</td>\n",
              "      <td>noband</td>\n",
              "    </tr>\n",
              "    <tr>\n",
              "      <th>297</th>\n",
              "      <td>19900820</td>\n",
              "      <td>X129</td>\n",
              "      <td>AMES</td>\n",
              "      <td>34585</td>\n",
              "      <td>NO</td>\n",
              "      <td>KEY</td>\n",
              "      <td>YES</td>\n",
              "      <td>BENTON</td>\n",
              "      <td>GALLATIN</td>\n",
              "      <td>COATED</td>\n",
              "      <td>COATED</td>\n",
              "      <td>NO</td>\n",
              "      <td>LINE</td>\n",
              "      <td>YES</td>\n",
              "      <td>Motter94</td>\n",
              "      <td>828</td>\n",
              "      <td>10</td>\n",
              "      <td>TABLOID</td>\n",
              "      <td>CANADIAN</td>\n",
              "      <td>1910</td>\n",
              "      <td>57.5</td>\n",
              "      <td>57</td>\n",
              "      <td>None</td>\n",
              "      <td>14.2</td>\n",
              "      <td>78</td>\n",
              "      <td>1</td>\n",
              "      <td>30</td>\n",
              "      <td>10.5</td>\n",
              "      <td>2400</td>\n",
              "      <td>52.6</td>\n",
              "      <td>36.8</td>\n",
              "      <td>0</td>\n",
              "      <td>0.0</td>\n",
              "      <td>2.5</td>\n",
              "      <td>1</td>\n",
              "      <td>33</td>\n",
              "      <td>40</td>\n",
              "      <td>93.75</td>\n",
              "      <td>100</td>\n",
              "      <td>noband</td>\n",
              "    </tr>\n",
              "    <tr>\n",
              "      <th>298</th>\n",
              "      <td>19900830</td>\n",
              "      <td>T204</td>\n",
              "      <td>GALLS</td>\n",
              "      <td>38061</td>\n",
              "      <td>YES</td>\n",
              "      <td>KEY</td>\n",
              "      <td>YES</td>\n",
              "      <td>BENTON</td>\n",
              "      <td>GALLATIN</td>\n",
              "      <td>UNCOATED</td>\n",
              "      <td>UNCOATED</td>\n",
              "      <td>NO</td>\n",
              "      <td>XYLOL</td>\n",
              "      <td>None</td>\n",
              "      <td>WoodHoe70</td>\n",
              "      <td>815</td>\n",
              "      <td>1</td>\n",
              "      <td>SPIEGEL</td>\n",
              "      <td>NorthUS</td>\n",
              "      <td>1911</td>\n",
              "      <td>47.5</td>\n",
              "      <td>49</td>\n",
              "      <td>0.367</td>\n",
              "      <td>15.0</td>\n",
              "      <td>84</td>\n",
              "      <td>0.75</td>\n",
              "      <td>28</td>\n",
              "      <td>2.2</td>\n",
              "      <td>1600</td>\n",
              "      <td>54.3</td>\n",
              "      <td>43.5</td>\n",
              "      <td>0</td>\n",
              "      <td>0.0</td>\n",
              "      <td>3</td>\n",
              "      <td>0.9</td>\n",
              "      <td>34</td>\n",
              "      <td>30</td>\n",
              "      <td>108.1</td>\n",
              "      <td>100</td>\n",
              "      <td>band</td>\n",
              "    </tr>\n",
              "  </tbody>\n",
              "</table>\n",
              "<p>299 rows × 40 columns</p>\n",
              "</div>"
            ],
            "text/plain": [
              "     timestamp cylinder number  ... chrome content  band type\n",
              "0     19910109            X266  ...            100     noband\n",
              "1     19910104              B7  ...            100     noband\n",
              "2     19910104            T133  ...            100     noband\n",
              "3     19910111             J34  ...            100     noband\n",
              "4     19910104            T218  ...            100     noband\n",
              "..         ...             ...  ...            ...        ...\n",
              "294   19900818             X91  ...            100     noband\n",
              "295   19900818            X132  ...            100     noband\n",
              "296   19900820            X377  ...            100     noband\n",
              "297   19900820            X129  ...            100     noband\n",
              "298   19900830            T204  ...            100       band\n",
              "\n",
              "[299 rows x 40 columns]"
            ]
          },
          "metadata": {
            "tags": []
          },
          "execution_count": 199
        }
      ]
    },
    {
      "cell_type": "markdown",
      "metadata": {
        "id": "glWsKJK5pQQt",
        "colab_type": "text"
      },
      "source": [
        "## Создание нового датафрейма только с нужными признаками"
      ]
    },
    {
      "cell_type": "code",
      "metadata": {
        "id": "VrtRYY8XpV_Z",
        "colab_type": "code",
        "outputId": "25f7c187-d2e6-40c7-e58d-f4c33b55dd6e",
        "colab": {
          "base_uri": "https://localhost:8080/"
        }
      },
      "source": [
        "req_data = all_data.loc[:, ['roughness', 'press speed']]\n",
        "req_data.columns = ['X', 'Y']\n",
        "for column in req_data.columns:\n",
        "  req_data = req_data.loc[req_data[column].apply(lambda x: is_digit(str(x)))]\n",
        "req_data = req_data.astype('float')\n",
        "req_data"
      ],
      "execution_count": 0,
      "outputs": [
        {
          "output_type": "execute_result",
          "data": {
            "text/html": [
              "<div>\n",
              "<style scoped>\n",
              "    .dataframe tbody tr th:only-of-type {\n",
              "        vertical-align: middle;\n",
              "    }\n",
              "\n",
              "    .dataframe tbody tr th {\n",
              "        vertical-align: top;\n",
              "    }\n",
              "\n",
              "    .dataframe thead th {\n",
              "        text-align: right;\n",
              "    }\n",
              "</style>\n",
              "<table border=\"1\" class=\"dataframe\">\n",
              "  <thead>\n",
              "    <tr style=\"text-align: right;\">\n",
              "      <th></th>\n",
              "      <th>X</th>\n",
              "      <th>Y</th>\n",
              "    </tr>\n",
              "  </thead>\n",
              "  <tbody>\n",
              "    <tr>\n",
              "      <th>0</th>\n",
              "      <td>0.7500</td>\n",
              "      <td>1900.0</td>\n",
              "    </tr>\n",
              "    <tr>\n",
              "      <th>2</th>\n",
              "      <td>0.3125</td>\n",
              "      <td>1467.0</td>\n",
              "    </tr>\n",
              "    <tr>\n",
              "      <th>3</th>\n",
              "      <td>0.7500</td>\n",
              "      <td>2100.0</td>\n",
              "    </tr>\n",
              "    <tr>\n",
              "      <th>4</th>\n",
              "      <td>0.4375</td>\n",
              "      <td>1467.0</td>\n",
              "    </tr>\n",
              "    <tr>\n",
              "      <th>5</th>\n",
              "      <td>0.7500</td>\n",
              "      <td>2600.0</td>\n",
              "    </tr>\n",
              "    <tr>\n",
              "      <th>...</th>\n",
              "      <td>...</td>\n",
              "      <td>...</td>\n",
              "    </tr>\n",
              "    <tr>\n",
              "      <th>294</th>\n",
              "      <td>1.0000</td>\n",
              "      <td>1600.0</td>\n",
              "    </tr>\n",
              "    <tr>\n",
              "      <th>295</th>\n",
              "      <td>1.0000</td>\n",
              "      <td>1600.0</td>\n",
              "    </tr>\n",
              "    <tr>\n",
              "      <th>296</th>\n",
              "      <td>1.0000</td>\n",
              "      <td>2400.0</td>\n",
              "    </tr>\n",
              "    <tr>\n",
              "      <th>297</th>\n",
              "      <td>1.0000</td>\n",
              "      <td>2400.0</td>\n",
              "    </tr>\n",
              "    <tr>\n",
              "      <th>298</th>\n",
              "      <td>0.7500</td>\n",
              "      <td>1600.0</td>\n",
              "    </tr>\n",
              "  </tbody>\n",
              "</table>\n",
              "<p>280 rows × 2 columns</p>\n",
              "</div>"
            ],
            "text/plain": [
              "          X       Y\n",
              "0    0.7500  1900.0\n",
              "2    0.3125  1467.0\n",
              "3    0.7500  2100.0\n",
              "4    0.4375  1467.0\n",
              "5    0.7500  2600.0\n",
              "..      ...     ...\n",
              "294  1.0000  1600.0\n",
              "295  1.0000  1600.0\n",
              "296  1.0000  2400.0\n",
              "297  1.0000  2400.0\n",
              "298  0.7500  1600.0\n",
              "\n",
              "[280 rows x 2 columns]"
            ]
          },
          "metadata": {
            "tags": []
          },
          "execution_count": 200
        }
      ]
    },
    {
      "cell_type": "markdown",
      "metadata": {
        "id": "AYKU8iOjJjbs",
        "colab_type": "text"
      },
      "source": [
        "## Изображение точек на плоскости для этих двух признаков\n"
      ]
    },
    {
      "cell_type": "code",
      "metadata": {
        "id": "Lw4bOcnXJlic",
        "colab_type": "code",
        "outputId": "def9e85e-196f-4163-d755-6c17bf0d83b9",
        "colab": {
          "base_uri": "https://localhost:8080/"
        }
      },
      "source": [
        "req_data.plot.scatter(\n",
        "    x='X',\n",
        "    y='Y'\n",
        ")\n",
        "\n",
        "plt.show()"
      ],
      "execution_count": 0,
      "outputs": [
        {
          "output_type": "display_data",
          "data": {
            "image/png": "[encoded data removed]",
            "text/plain": [
              "<Figure size 432x288 with 1 Axes>"
            ]
          },
          "metadata": {
            "tags": []
          }
        }
      ]
    },
    {
      "cell_type": "markdown",
      "metadata": {
        "id": "3NJWU8qSJ_3X",
        "colab_type": "text"
      },
      "source": [
        "## Построение модели линейной регрессии"
      ]
    },
    {
      "cell_type": "code",
      "metadata": {
        "id": "BmDakrDXKIsx",
        "colab_type": "code",
        "outputId": "03d130a8-ec14-4270-dc01-91d90707c964",
        "colab": {
          "base_uri": "https://localhost:8080/"
        }
      },
      "source": [
        "X = req_data['X']\n",
        "Y = req_data['Y']\n",
        "XY = X * Y\n",
        "a = np.array([[X.apply(lambda x: x*x).sum(), X.sum()], [X.sum(), n]])\n",
        "b = np.array([XY.sum(), Y.sum()])\n",
        "res = np.linalg.solve(a, b)\n",
        "print('a =', res[0])\n",
        "print('b =', res[1])"
      ],
      "execution_count": 0,
      "outputs": [
        {
          "output_type": "stream",
          "text": [
            "a = 2529.0710391562316\n",
            "b = -163.78662400740726\n"
          ],
          "name": "stdout"
        }
      ]
    },
    {
      "cell_type": "code",
      "metadata": {
        "id": "c6rMA0umKpDc",
        "colab_type": "code",
        "outputId": "af6c47e7-62eb-434f-9532-d477a2b51cd2",
        "colab": {
          "base_uri": "https://localhost:8080/"
        }
      },
      "source": [
        "Y_REG = res[0]*X+res[1]\n",
        "req_data.insert(2, column='Y_REG', value=Y_REG)\n",
        "print(req_data)"
      ],
      "execution_count": 0,
      "outputs": [
        {
          "output_type": "stream",
          "text": [
            "          X       Y        Y_REG\n",
            "0    0.7500  1900.0  1733.016655\n",
            "2    0.3125  1467.0   626.548076\n",
            "3    0.7500  2100.0  1733.016655\n",
            "4    0.4375  1467.0   942.681956\n",
            "5    0.7500  2600.0  1733.016655\n",
            "..      ...     ...          ...\n",
            "294  1.0000  1600.0  2365.284415\n",
            "295  1.0000  1600.0  2365.284415\n",
            "296  1.0000  2400.0  2365.284415\n",
            "297  1.0000  2400.0  2365.284415\n",
            "298  0.7500  1600.0  1733.016655\n",
            "\n",
            "[280 rows x 3 columns]\n"
          ],
          "name": "stdout"
        }
      ]
    },
    {
      "cell_type": "markdown",
      "metadata": {
        "id": "xb8XqWaVMigz",
        "colab_type": "text"
      },
      "source": [
        "## Вывод точек и прямой"
      ]
    },
    {
      "cell_type": "code",
      "metadata": {
        "id": "rwKLGN3dMomX",
        "colab_type": "code",
        "outputId": "bc0d0e05-484a-4e45-ee70-cfb027d9e03e",
        "colab": {
          "base_uri": "https://localhost:8080/"
        }
      },
      "source": [
        "sns.lmplot(\n",
        "    x='X',\n",
        "    y='Y',\n",
        "    data=req_data,\n",
        "    fit_reg=True\n",
        ")\n",
        "\n",
        "plt.show()"
      ],
      "execution_count": 0,
      "outputs": [
        {
          "output_type": "display_data",
          "data": {
            "image/png": "[encoded data removed]",
            "text/plain": [
              "<Figure size 360x360 with 1 Axes>"
            ]
          },
          "metadata": {
            "tags": []
          }
        }
      ]
    },
    {
      "cell_type": "markdown",
      "metadata": {
        "id": "42uUYP7rMyfH",
        "colab_type": "text"
      },
      "source": [
        "## Вычислить коэффициент детерминации"
      ]
    },
    {
      "cell_type": "code",
      "metadata": {
        "id": "52CWlUdaM0qo",
        "colab_type": "code",
        "outputId": "54f3a36a-366a-4931-c596-971d9d84b984",
        "colab": {
          "base_uri": "https://localhost:8080/"
        }
      },
      "source": [
        "rss = 0\n",
        "tss = 0\n",
        "y = req_data['Y'].sum() / req_data['Y'].size\n",
        "for i in range(req_data['Y'].size):\n",
        "  try:\n",
        "    rss += (req_data['Y'][i] - req_data['Y_REG'][i])**2\n",
        "  except KeyError:\n",
        "    pass\n",
        "for i in range(req_data['Y'].size):\n",
        "  try:\n",
        "    tss += (req_data['Y'][i] - y)**2\n",
        "  except KeyError:\n",
        "    pass  \n",
        "r = 1 - rss / tss\n",
        "\n",
        "print(r)"
      ],
      "execution_count": 0,
      "outputs": [
        {
          "output_type": "stream",
          "text": [
            "-1.664947349874434\n"
          ],
          "name": "stdout"
        }
      ]
    }
  ]
}